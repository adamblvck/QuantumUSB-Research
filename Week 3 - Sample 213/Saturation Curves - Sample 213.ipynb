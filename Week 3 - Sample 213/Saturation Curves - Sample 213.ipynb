{
 "cells": [
  {
   "attachments": {},
   "cell_type": "markdown",
   "metadata": {
    "toc": true
   },
   "source": [
    "<h1>Contents<span class=\"tocSkip\"></span></h1>\n",
    "<div class=\"toc\"><ul class=\"toc-item\"><li><ul class=\"toc-item\"><li><span><a href=\"#Experimental-Setup\" data-toc-modified-id=\"Experimental-Setup-0.1\"><span class=\"toc-item-num\">0.1&nbsp;&nbsp;</span>Experimental Setup</a></span></li><li><span><a href=\"#Measurement-Process\" data-toc-modified-id=\"Measurement-Process-0.2\"><span class=\"toc-item-num\">0.2&nbsp;&nbsp;</span>Measurement Process</a></span><ul class=\"toc-item\"><li><span><a href=\"#Initial-Steps\" data-toc-modified-id=\"Initial-Steps-0.2.1\"><span class=\"toc-item-num\">0.2.1&nbsp;&nbsp;</span>Initial Steps</a></span></li><li><span><a href=\"#Map-NV-Sample\" data-toc-modified-id=\"Map-NV-Sample-0.2.2\"><span class=\"toc-item-num\">0.2.2&nbsp;&nbsp;</span>Map NV-Sample</a></span></li><li><span><a href=\"#Search-for-NV-Center\" data-toc-modified-id=\"Search-for-NV-Center-0.2.3\"><span class=\"toc-item-num\">0.2.3&nbsp;&nbsp;</span>Search for NV-Center</a></span></li><li><span><a href=\"#Spectrometer\" data-toc-modified-id=\"Spectrometer-0.2.4\"><span class=\"toc-item-num\">0.2.4&nbsp;&nbsp;</span>Spectrometer</a></span></li><li><span><a href=\"#Saturation-Measurements\" data-toc-modified-id=\"Saturation-Measurements-0.2.5\"><span class=\"toc-item-num\">0.2.5&nbsp;&nbsp;</span>Saturation Measurements</a></span></li></ul></li><li><span><a href=\"#Initial-Analysis-of-Data-Structure-of-PL_PC_records\" data-toc-modified-id=\"Initial-Analysis-of-Data-Structure-of-PL_PC_records-0.3\"><span class=\"toc-item-num\">0.3&nbsp;&nbsp;</span>Initial Analysis of Data Structure of PL_PC_records</a></span></li><li><span><a href=\"#Basic-Fitting\" data-toc-modified-id=\"Basic-Fitting-0.4\"><span class=\"toc-item-num\">0.4&nbsp;&nbsp;</span>Basic Fitting</a></span></li><li><span><a href=\"#Define-Automation\" data-toc-modified-id=\"Define-Automation-0.5\"><span class=\"toc-item-num\">0.5&nbsp;&nbsp;</span>Define Automation</a></span></li><li><span><a href=\"#Run-Automation-(single-file)\" data-toc-modified-id=\"Run-Automation-(single-file)-0.6\"><span class=\"toc-item-num\">0.6&nbsp;&nbsp;</span>Run Automation (single file)</a></span></li></ul></li><li><span><a href=\"#Curve-fitting\" data-toc-modified-id=\"Curve-fitting-1\"><span class=\"toc-item-num\">1&nbsp;&nbsp;</span>Curve fitting</a></span><ul class=\"toc-item\"><li><span><a href=\"#k8-Fitting\" data-toc-modified-id=\"k8-Fitting-1.1\"><span class=\"toc-item-num\">1.1&nbsp;&nbsp;</span>k8 Fitting</a></span></li></ul></li><li><span><a href=\"#Plot-in-3D\" data-toc-modified-id=\"Plot-in-3D-2\"><span class=\"toc-item-num\">2&nbsp;&nbsp;</span>Plot in 3D</a></span><ul class=\"toc-item\"><li><span><a href=\"#Credits\" data-toc-modified-id=\"Credits-2.1\"><span class=\"toc-item-num\">2.1&nbsp;&nbsp;</span>Credits</a></span></li></ul></li></ul></div>"
   ]
  },
  {
   "cell_type": "code",
   "execution_count": 251,
   "metadata": {},
   "outputs": [],
   "source": [
    "import pandas as pd\n",
    "import numpy as np\n",
    "import matplotlib.pyplot as plt\n",
    "\n",
    "%matplotlib inline\n",
    "\n",
    "SAMPLE_NUMBER = 213"
   ]
  },
  {
   "attachments": {},
   "cell_type": "markdown",
   "metadata": {},
   "source": [
    "## Experimental Setup\n",
    "\n",
    "<div>\n",
    "<img src=\"./213_sample_image.jpg\" width=\"500\"/>\n",
    "</div>\n",
    "\n",
    "## Measurement Process\n",
    "\n",
    "### Initial Steps\n",
    "1. Put power measurement into line of sight of laser\n",
    "2. Turn power of laser to 2mW using ThorLabs\n",
    "3. Make wavelength of laser `535nm`\n",
    "4. Remove power sensor from line of sight\n",
    "\n",
    "### Map NV-Sample\n",
    "1. Turn off Amplitude (in UI)\n",
    "2. Select Z (depth) to 44.0mm (default)\n",
    "3. After a few lines (5-ish), select a few bright spots, stop the scan.\n",
    "4. Perform Z-Depth scan, to check if we're at correct height!\n",
    "\n",
    "<div>\n",
    "<img src=\"./IMG_6069.jpg\" width=\"500\"/>\n",
    "</div>\n",
    "\n",
    "\n",
    "5. As can be seen from the graph, 44 is a little meh. A depth of 46 would perform way better\n",
    "\n",
    "Setting the depth Z=$46\\mu m$ , we restart the mapping.\n",
    "\n",
    "\n",
    "\n",
    "### Search for NV-Center\n",
    "\n",
    "We aimed at finding between 80-90k counts.\n",
    "\n",
    "Candidates:\n",
    "- Candidate NV-center at `<61.0, 21.1, 45.6>`\n",
    "    - Nothing there, after performing $\\mu wave$ scan\n",
    "- Candidate NV-center found at `<61.4, 22.9, 45.6>`\n",
    "    - *This is an NV-center! Nice!*\n",
    "\n",
    "For each step, we performed the following steps:\n",
    "- Enable amplifier \n",
    "- Enable Microwave & Scan\n",
    "    - if error occurs, goto `127.0.0.1:8006` to ensure microwave software is enabled\n",
    "\n",
    "\n",
    "### Spectrometer\n",
    "\n",
    "To ensure that we have an NV-center, we'll perform a spectrum analysis.\n",
    "\n",
    "1. Put acquisition data to 200 (Acquisition > Acquisition Setup > 50)\n",
    "2. Take background measurements via: Acquisition> Take Background\n",
    "3. Move cursor back to \n",
    "4. Take reference measurements via: Acquisition> Take Reference\n",
    "\n",
    "The Spectrometer, sadly, gives a very noisy signal.\n",
    "\n",
    "### Saturation Measurements\n",
    "\n",
    "At wavelength 525nm, we're performing the following experiments:\n",
    "- `nv-1` and `b-1`\n",
    "- `nv-2` and `b-2`\n",
    "    - For this NV, we found a more optimal location `<61.3, 22.6, 45.2>`\n",
    "- \n",
    "\n",
    "To ensure that the experiments can be reproduced, measure for 535nm twice, or multiple times, such that we can report for the error.\n"
   ]
  },
  {
   "attachments": {},
   "cell_type": "markdown",
   "metadata": {},
   "source": [
    "## Initial Analysis of Data Structure of PL_PC_records\n",
    "\n",
    "Data Preparation Steps:\n",
    "- Deleted `-nv-background-` for 535nm, since duplicate of `-b-`\n",
    "- Renamed all files to adhere to the following format:\n",
    "  \n",
    "  \"PL and PC record-\" + {wave_length (3 char)} + \"-\" + {b|nv} + \"-\" + {order}\n",
    "  with b = background\n",
    "  with nv = NV-center (Nitrogen Vacancy)\n",
    "\n",
    "- Created a 5th version for one of the 535nm and 545nm experiments, since `nv-2-ii` used same `b-2` for background in Darya's measurements.\n",
    "  - `-nv-2-ii` -> `-nv-5` [535nm]\n",
    "  - `-b-2` -dupl-> `-b-5` [535nm]\n",
    "  - `-nv-3-ii` -> `-nv-6`[545nm]\n",
    "  - `-b-3` -dupl-> `-b-6` [545nm]\n",
    "\n",
    "Basic calculation steps:\n",
    "1. Create a combined dataframe for each experiment (nv+b):\n",
    "   1. Fetch `b` (background) and `nv` (NV-center) files into seperate dataframe\n",
    "   2. Linearly fit Laser Power (V) - PL curve for the background file (b)\n",
    "   3. Substract `Background PL` from `NV PL`, using linear fit\n",
    "   4. Convert Laser Power from Voltage to Wattage, also using linear fitting from experimental data\n",
    "2. Automate the above, such that whole folders can be immediately analysed"
   ]
  },
  {
   "cell_type": "code",
   "execution_count": 244,
   "metadata": {},
   "outputs": [],
   "source": [
    "def read_filename(filename):\n",
    "\n",
    "\t# read table\n",
    "\tdf = pd.read_csv(filename, sep='\\t', decimal='.', header=None)\n",
    "\n",
    "\t# EG, FILENAME='PL_PC_records/PL and PC record-535-b-2.txt' --> ID_STRING='535-b-2.txt'\n",
    "\tid_string = filename.split('/')[1][17:]\n",
    "\n",
    "\t# pluck identifying information\n",
    "\tcc = id_string.split('-') # split into parts with - inbetween\n",
    "\twavelength = cc[0]; # wavelength\n",
    "\tlocation = cc[1]; # background (b) or nv-center (nv)\n",
    "\tix = cc[2].split('.')[0]; # experiment #\n",
    "\n",
    "\t# file has rows for columns, thus transpose\n",
    "\tdf = df.transpose()\n",
    "\n",
    "\t# assign column meaning\n",
    "\tdf['Laser Power (V)'] = df[0] # the header became the index after transposition\n",
    "\tdf['PL (counts/s)'] = df[1]\n",
    "\tdf['PC (pA)'] = df[2]\n",
    "\n",
    "\t# make the index a simple counter\n",
    "\tdf = df.reset_index()\n",
    "\n",
    "\t# keep columns of interest\n",
    "\tdf = df[['Laser Power (V)', 'PL (counts/s)', 'PC (pA)']]\n",
    "\n",
    "\t# assign identifiers to dataframe\n",
    "\tdf['Wavelength'] = int(wavelength)\n",
    "\tdf['Location'] = location\n",
    "\tdf['Experiment #'] = int(ix)\n",
    "\n",
    "\tdf['Laser Power (V)'] = df['Laser Power (V)'].astype(float)\n",
    "\tdf['PL (counts/s)'] = df['PL (counts/s)'].astype(float)\n",
    "\tdf['PC (pA)'] =  df['PC (pA)'].astype(float)\n",
    "\n",
    "\treturn df, wavelength, location, ix"
   ]
  },
  {
   "cell_type": "code",
   "execution_count": 245,
   "metadata": {},
   "outputs": [
    {
     "data": {
      "text/html": [
       "<div>\n",
       "<style scoped>\n",
       "    .dataframe tbody tr th:only-of-type {\n",
       "        vertical-align: middle;\n",
       "    }\n",
       "\n",
       "    .dataframe tbody tr th {\n",
       "        vertical-align: top;\n",
       "    }\n",
       "\n",
       "    .dataframe thead th {\n",
       "        text-align: right;\n",
       "    }\n",
       "</style>\n",
       "<table border=\"1\" class=\"dataframe\">\n",
       "  <thead>\n",
       "    <tr style=\"text-align: right;\">\n",
       "      <th></th>\n",
       "      <th>Laser Power (V)</th>\n",
       "      <th>PL (counts/s)</th>\n",
       "      <th>PC (pA)</th>\n",
       "      <th>Wavelength</th>\n",
       "      <th>Location</th>\n",
       "      <th>Experiment #</th>\n",
       "    </tr>\n",
       "  </thead>\n",
       "  <tbody>\n",
       "    <tr>\n",
       "      <th>0</th>\n",
       "      <td>0.030575</td>\n",
       "      <td>7371.861167</td>\n",
       "      <td>-0.381425</td>\n",
       "      <td>535</td>\n",
       "      <td>nv</td>\n",
       "      <td>1</td>\n",
       "    </tr>\n",
       "    <tr>\n",
       "      <th>1</th>\n",
       "      <td>0.031122</td>\n",
       "      <td>6885.787734</td>\n",
       "      <td>-0.385219</td>\n",
       "      <td>535</td>\n",
       "      <td>nv</td>\n",
       "      <td>1</td>\n",
       "    </tr>\n",
       "    <tr>\n",
       "      <th>2</th>\n",
       "      <td>0.030861</td>\n",
       "      <td>7314.374239</td>\n",
       "      <td>-0.388472</td>\n",
       "      <td>535</td>\n",
       "      <td>nv</td>\n",
       "      <td>1</td>\n",
       "    </tr>\n",
       "    <tr>\n",
       "      <th>3</th>\n",
       "      <td>0.031303</td>\n",
       "      <td>6903.260954</td>\n",
       "      <td>-0.391937</td>\n",
       "      <td>535</td>\n",
       "      <td>nv</td>\n",
       "      <td>1</td>\n",
       "    </tr>\n",
       "    <tr>\n",
       "      <th>4</th>\n",
       "      <td>0.031191</td>\n",
       "      <td>7082.509437</td>\n",
       "      <td>-0.395306</td>\n",
       "      <td>535</td>\n",
       "      <td>nv</td>\n",
       "      <td>1</td>\n",
       "    </tr>\n",
       "  </tbody>\n",
       "</table>\n",
       "</div>"
      ],
      "text/plain": [
       "   Laser Power (V)  PL (counts/s)   PC (pA)  Wavelength Location  Experiment #\n",
       "0         0.030575    7371.861167 -0.381425         535       nv             1\n",
       "1         0.031122    6885.787734 -0.385219         535       nv             1\n",
       "2         0.030861    7314.374239 -0.388472         535       nv             1\n",
       "3         0.031303    6903.260954 -0.391937         535       nv             1\n",
       "4         0.031191    7082.509437 -0.395306         535       nv             1"
      ]
     },
     "execution_count": 245,
     "metadata": {},
     "output_type": "execute_result"
    }
   ],
   "source": [
    "# basic experiment\n",
    "df, wavelength, location, ix = read_filename('PL_PC_records/PL and PC record-535-nv-1.txt')\n",
    "df.head()"
   ]
  },
  {
   "cell_type": "code",
   "execution_count": 246,
   "metadata": {},
   "outputs": [],
   "source": [
    "def compose_experiment(wavelength, iteration):\n",
    "\n",
    "\tnv_filename = 'PL_PC_records/PL and PC record-' + str(wavelength) + '-nv-' + str(iteration) + '.txt'\n",
    "\tb_filename  = 'PL_PC_records/PL and PC record-' + str(wavelength) + '-b-' + str(iteration) + '.txt'\n",
    "\n",
    "\tnv_df, _ , _ , _  = read_filename(nv_filename)\n",
    "\tb_df , _ , _ , _ = read_filename(b_filename)\t\n",
    "\n",
    "\treturn nv_df, b_df"
   ]
  },
  {
   "cell_type": "code",
   "execution_count": 247,
   "metadata": {},
   "outputs": [],
   "source": [
    "# for testing compose_experiment, read wavelegnth 535nm, experiment 3\n",
    "nv, b = compose_experiment(535, 3)"
   ]
  },
  {
   "cell_type": "code",
   "execution_count": 248,
   "metadata": {},
   "outputs": [
    {
     "data": {
      "application/javascript": "/* Put everything inside the global mpl namespace */\nwindow.mpl = {};\n\n\nmpl.get_websocket_type = function() {\n    if (typeof(WebSocket) !== 'undefined') {\n        return WebSocket;\n    } else if (typeof(MozWebSocket) !== 'undefined') {\n        return MozWebSocket;\n    } else {\n        alert('Your browser does not have WebSocket support. ' +\n              'Please try Chrome, Safari or Firefox ≥ 6. ' +\n              'Firefox 4 and 5 are also supported but you ' +\n              'have to enable WebSockets in about:config.');\n    };\n}\n\nmpl.figure = function(figure_id, websocket, ondownload, parent_element) {\n    this.id = figure_id;\n\n    this.ws = websocket;\n\n    this.supports_binary = (this.ws.binaryType != undefined);\n\n    if (!this.supports_binary) {\n        var warnings = document.getElementById(\"mpl-warnings\");\n        if (warnings) {\n            warnings.style.display = 'block';\n            warnings.textContent = (\n                \"This browser does not support binary websocket messages. \" +\n                    \"Performance may be slow.\");\n        }\n    }\n\n    this.imageObj = new Image();\n\n    this.context = undefined;\n    this.message = undefined;\n    this.canvas = undefined;\n    this.rubberband_canvas = undefined;\n    this.rubberband_context = undefined;\n    this.format_dropdown = undefined;\n\n    this.image_mode = 'full';\n\n    this.root = $('<div/>');\n    this._root_extra_style(this.root)\n    this.root.attr('style', 'display: inline-block');\n\n    $(parent_element).append(this.root);\n\n    this._init_header(this);\n    this._init_canvas(this);\n    this._init_toolbar(this);\n\n    var fig = this;\n\n    this.waiting = false;\n\n    this.ws.onopen =  function () {\n            fig.send_message(\"supports_binary\", {value: fig.supports_binary});\n            fig.send_message(\"send_image_mode\", {});\n            if (mpl.ratio != 1) {\n                fig.send_message(\"set_dpi_ratio\", {'dpi_ratio': mpl.ratio});\n            }\n            fig.send_message(\"refresh\", {});\n        }\n\n    this.imageObj.onload = function() {\n            if (fig.image_mode == 'full') {\n                // Full images could contain transparency (where diff images\n                // almost always do), so we need to clear the canvas so that\n                // there is no ghosting.\n                fig.context.clearRect(0, 0, fig.canvas.width, fig.canvas.height);\n            }\n            fig.context.drawImage(fig.imageObj, 0, 0);\n        };\n\n    this.imageObj.onunload = function() {\n        fig.ws.close();\n    }\n\n    this.ws.onmessage = this._make_on_message_function(this);\n\n    this.ondownload = ondownload;\n}\n\nmpl.figure.prototype._init_header = function() {\n    var titlebar = $(\n        '<div class=\"ui-dialog-titlebar ui-widget-header ui-corner-all ' +\n        'ui-helper-clearfix\"/>');\n    var titletext = $(\n        '<div class=\"ui-dialog-title\" style=\"width: 100%; ' +\n        'text-align: center; padding: 3px;\"/>');\n    titlebar.append(titletext)\n    this.root.append(titlebar);\n    this.header = titletext[0];\n}\n\n\n\nmpl.figure.prototype._canvas_extra_style = function(canvas_div) {\n\n}\n\n\nmpl.figure.prototype._root_extra_style = function(canvas_div) {\n\n}\n\nmpl.figure.prototype._init_canvas = function() {\n    var fig = this;\n\n    var canvas_div = $('<div/>');\n\n    canvas_div.attr('style', 'position: relative; clear: both; outline: 0');\n\n    function canvas_keyboard_event(event) {\n        return fig.key_event(event, event['data']);\n    }\n\n    canvas_div.keydown('key_press', canvas_keyboard_event);\n    canvas_div.keyup('key_release', canvas_keyboard_event);\n    this.canvas_div = canvas_div\n    this._canvas_extra_style(canvas_div)\n    this.root.append(canvas_div);\n\n    var canvas = $('<canvas/>');\n    canvas.addClass('mpl-canvas');\n    canvas.attr('style', \"left: 0; top: 0; z-index: 0; outline: 0\")\n\n    this.canvas = canvas[0];\n    this.context = canvas[0].getContext(\"2d\");\n\n    var backingStore = this.context.backingStorePixelRatio ||\n\tthis.context.webkitBackingStorePixelRatio ||\n\tthis.context.mozBackingStorePixelRatio ||\n\tthis.context.msBackingStorePixelRatio ||\n\tthis.context.oBackingStorePixelRatio ||\n\tthis.context.backingStorePixelRatio || 1;\n\n    mpl.ratio = (window.devicePixelRatio || 1) / backingStore;\n\n    var rubberband = $('<canvas/>');\n    rubberband.attr('style', \"position: absolute; left: 0; top: 0; z-index: 1;\")\n\n    var pass_mouse_events = true;\n\n    canvas_div.resizable({\n        start: function(event, ui) {\n            pass_mouse_events = false;\n        },\n        resize: function(event, ui) {\n            fig.request_resize(ui.size.width, ui.size.height);\n        },\n        stop: function(event, ui) {\n            pass_mouse_events = true;\n            fig.request_resize(ui.size.width, ui.size.height);\n        },\n    });\n\n    function mouse_event_fn(event) {\n        if (pass_mouse_events)\n            return fig.mouse_event(event, event['data']);\n    }\n\n    rubberband.mousedown('button_press', mouse_event_fn);\n    rubberband.mouseup('button_release', mouse_event_fn);\n    // Throttle sequential mouse events to 1 every 20ms.\n    rubberband.mousemove('motion_notify', mouse_event_fn);\n\n    rubberband.mouseenter('figure_enter', mouse_event_fn);\n    rubberband.mouseleave('figure_leave', mouse_event_fn);\n\n    canvas_div.on(\"wheel\", function (event) {\n        event = event.originalEvent;\n        event['data'] = 'scroll'\n        if (event.deltaY < 0) {\n            event.step = 1;\n        } else {\n            event.step = -1;\n        }\n        mouse_event_fn(event);\n    });\n\n    canvas_div.append(canvas);\n    canvas_div.append(rubberband);\n\n    this.rubberband = rubberband;\n    this.rubberband_canvas = rubberband[0];\n    this.rubberband_context = rubberband[0].getContext(\"2d\");\n    this.rubberband_context.strokeStyle = \"#000000\";\n\n    this._resize_canvas = function(width, height) {\n        // Keep the size of the canvas, canvas container, and rubber band\n        // canvas in synch.\n        canvas_div.css('width', width)\n        canvas_div.css('height', height)\n\n        canvas.attr('width', width * mpl.ratio);\n        canvas.attr('height', height * mpl.ratio);\n        canvas.attr('style', 'width: ' + width + 'px; height: ' + height + 'px;');\n\n        rubberband.attr('width', width);\n        rubberband.attr('height', height);\n    }\n\n    // Set the figure to an initial 600x600px, this will subsequently be updated\n    // upon first draw.\n    this._resize_canvas(600, 600);\n\n    // Disable right mouse context menu.\n    $(this.rubberband_canvas).bind(\"contextmenu\",function(e){\n        return false;\n    });\n\n    function set_focus () {\n        canvas.focus();\n        canvas_div.focus();\n    }\n\n    window.setTimeout(set_focus, 100);\n}\n\nmpl.figure.prototype._init_toolbar = function() {\n    var fig = this;\n\n    var nav_element = $('<div/>');\n    nav_element.attr('style', 'width: 100%');\n    this.root.append(nav_element);\n\n    // Define a callback function for later on.\n    function toolbar_event(event) {\n        return fig.toolbar_button_onclick(event['data']);\n    }\n    function toolbar_mouse_event(event) {\n        return fig.toolbar_button_onmouseover(event['data']);\n    }\n\n    for(var toolbar_ind in mpl.toolbar_items) {\n        var name = mpl.toolbar_items[toolbar_ind][0];\n        var tooltip = mpl.toolbar_items[toolbar_ind][1];\n        var image = mpl.toolbar_items[toolbar_ind][2];\n        var method_name = mpl.toolbar_items[toolbar_ind][3];\n\n        if (!name) {\n            // put a spacer in here.\n            continue;\n        }\n        var button = $('<button/>');\n        button.addClass('ui-button ui-widget ui-state-default ui-corner-all ' +\n                        'ui-button-icon-only');\n        button.attr('role', 'button');\n        button.attr('aria-disabled', 'false');\n        button.click(method_name, toolbar_event);\n        button.mouseover(tooltip, toolbar_mouse_event);\n\n        var icon_img = $('<span/>');\n        icon_img.addClass('ui-button-icon-primary ui-icon');\n        icon_img.addClass(image);\n        icon_img.addClass('ui-corner-all');\n\n        var tooltip_span = $('<span/>');\n        tooltip_span.addClass('ui-button-text');\n        tooltip_span.html(tooltip);\n\n        button.append(icon_img);\n        button.append(tooltip_span);\n\n        nav_element.append(button);\n    }\n\n    var fmt_picker_span = $('<span/>');\n\n    var fmt_picker = $('<select/>');\n    fmt_picker.addClass('mpl-toolbar-option ui-widget ui-widget-content');\n    fmt_picker_span.append(fmt_picker);\n    nav_element.append(fmt_picker_span);\n    this.format_dropdown = fmt_picker[0];\n\n    for (var ind in mpl.extensions) {\n        var fmt = mpl.extensions[ind];\n        var option = $(\n            '<option/>', {selected: fmt === mpl.default_extension}).html(fmt);\n        fmt_picker.append(option);\n    }\n\n    // Add hover states to the ui-buttons\n    $( \".ui-button\" ).hover(\n        function() { $(this).addClass(\"ui-state-hover\");},\n        function() { $(this).removeClass(\"ui-state-hover\");}\n    );\n\n    var status_bar = $('<span class=\"mpl-message\"/>');\n    nav_element.append(status_bar);\n    this.message = status_bar[0];\n}\n\nmpl.figure.prototype.request_resize = function(x_pixels, y_pixels) {\n    // Request matplotlib to resize the figure. Matplotlib will then trigger a resize in the client,\n    // which will in turn request a refresh of the image.\n    this.send_message('resize', {'width': x_pixels, 'height': y_pixels});\n}\n\nmpl.figure.prototype.send_message = function(type, properties) {\n    properties['type'] = type;\n    properties['figure_id'] = this.id;\n    this.ws.send(JSON.stringify(properties));\n}\n\nmpl.figure.prototype.send_draw_message = function() {\n    if (!this.waiting) {\n        this.waiting = true;\n        this.ws.send(JSON.stringify({type: \"draw\", figure_id: this.id}));\n    }\n}\n\n\nmpl.figure.prototype.handle_save = function(fig, msg) {\n    var format_dropdown = fig.format_dropdown;\n    var format = format_dropdown.options[format_dropdown.selectedIndex].value;\n    fig.ondownload(fig, format);\n}\n\n\nmpl.figure.prototype.handle_resize = function(fig, msg) {\n    var size = msg['size'];\n    if (size[0] != fig.canvas.width || size[1] != fig.canvas.height) {\n        fig._resize_canvas(size[0], size[1]);\n        fig.send_message(\"refresh\", {});\n    };\n}\n\nmpl.figure.prototype.handle_rubberband = function(fig, msg) {\n    var x0 = msg['x0'] / mpl.ratio;\n    var y0 = (fig.canvas.height - msg['y0']) / mpl.ratio;\n    var x1 = msg['x1'] / mpl.ratio;\n    var y1 = (fig.canvas.height - msg['y1']) / mpl.ratio;\n    x0 = Math.floor(x0) + 0.5;\n    y0 = Math.floor(y0) + 0.5;\n    x1 = Math.floor(x1) + 0.5;\n    y1 = Math.floor(y1) + 0.5;\n    var min_x = Math.min(x0, x1);\n    var min_y = Math.min(y0, y1);\n    var width = Math.abs(x1 - x0);\n    var height = Math.abs(y1 - y0);\n\n    fig.rubberband_context.clearRect(\n        0, 0, fig.canvas.width, fig.canvas.height);\n\n    fig.rubberband_context.strokeRect(min_x, min_y, width, height);\n}\n\nmpl.figure.prototype.handle_figure_label = function(fig, msg) {\n    // Updates the figure title.\n    fig.header.textContent = msg['label'];\n}\n\nmpl.figure.prototype.handle_cursor = function(fig, msg) {\n    var cursor = msg['cursor'];\n    switch(cursor)\n    {\n    case 0:\n        cursor = 'pointer';\n        break;\n    case 1:\n        cursor = 'default';\n        break;\n    case 2:\n        cursor = 'crosshair';\n        break;\n    case 3:\n        cursor = 'move';\n        break;\n    }\n    fig.rubberband_canvas.style.cursor = cursor;\n}\n\nmpl.figure.prototype.handle_message = function(fig, msg) {\n    fig.message.textContent = msg['message'];\n}\n\nmpl.figure.prototype.handle_draw = function(fig, msg) {\n    // Request the server to send over a new figure.\n    fig.send_draw_message();\n}\n\nmpl.figure.prototype.handle_image_mode = function(fig, msg) {\n    fig.image_mode = msg['mode'];\n}\n\nmpl.figure.prototype.updated_canvas_event = function() {\n    // Called whenever the canvas gets updated.\n    this.send_message(\"ack\", {});\n}\n\n// A function to construct a web socket function for onmessage handling.\n// Called in the figure constructor.\nmpl.figure.prototype._make_on_message_function = function(fig) {\n    return function socket_on_message(evt) {\n        if (evt.data instanceof Blob) {\n            /* FIXME: We get \"Resource interpreted as Image but\n             * transferred with MIME type text/plain:\" errors on\n             * Chrome.  But how to set the MIME type?  It doesn't seem\n             * to be part of the websocket stream */\n            evt.data.type = \"image/png\";\n\n            /* Free the memory for the previous frames */\n            if (fig.imageObj.src) {\n                (window.URL || window.webkitURL).revokeObjectURL(\n                    fig.imageObj.src);\n            }\n\n            fig.imageObj.src = (window.URL || window.webkitURL).createObjectURL(\n                evt.data);\n            fig.updated_canvas_event();\n            fig.waiting = false;\n            return;\n        }\n        else if (typeof evt.data === 'string' && evt.data.slice(0, 21) == \"data:image/png;base64\") {\n            fig.imageObj.src = evt.data;\n            fig.updated_canvas_event();\n            fig.waiting = false;\n            return;\n        }\n\n        var msg = JSON.parse(evt.data);\n        var msg_type = msg['type'];\n\n        // Call the  \"handle_{type}\" callback, which takes\n        // the figure and JSON message as its only arguments.\n        try {\n            var callback = fig[\"handle_\" + msg_type];\n        } catch (e) {\n            console.log(\"No handler for the '\" + msg_type + \"' message type: \", msg);\n            return;\n        }\n\n        if (callback) {\n            try {\n                // console.log(\"Handling '\" + msg_type + \"' message: \", msg);\n                callback(fig, msg);\n            } catch (e) {\n                console.log(\"Exception inside the 'handler_\" + msg_type + \"' callback:\", e, e.stack, msg);\n            }\n        }\n    };\n}\n\n// from http://stackoverflow.com/questions/1114465/getting-mouse-location-in-canvas\nmpl.findpos = function(e) {\n    //this section is from http://www.quirksmode.org/js/events_properties.html\n    var targ;\n    if (!e)\n        e = window.event;\n    if (e.target)\n        targ = e.target;\n    else if (e.srcElement)\n        targ = e.srcElement;\n    if (targ.nodeType == 3) // defeat Safari bug\n        targ = targ.parentNode;\n\n    // jQuery normalizes the pageX and pageY\n    // pageX,Y are the mouse positions relative to the document\n    // offset() returns the position of the element relative to the document\n    var x = e.pageX - $(targ).offset().left;\n    var y = e.pageY - $(targ).offset().top;\n\n    return {\"x\": x, \"y\": y};\n};\n\n/*\n * return a copy of an object with only non-object keys\n * we need this to avoid circular references\n * http://stackoverflow.com/a/24161582/3208463\n */\nfunction simpleKeys (original) {\n  return Object.keys(original).reduce(function (obj, key) {\n    if (typeof original[key] !== 'object')\n        obj[key] = original[key]\n    return obj;\n  }, {});\n}\n\nmpl.figure.prototype.mouse_event = function(event, name) {\n    var canvas_pos = mpl.findpos(event)\n\n    if (name === 'button_press')\n    {\n        this.canvas.focus();\n        this.canvas_div.focus();\n    }\n\n    var x = canvas_pos.x * mpl.ratio;\n    var y = canvas_pos.y * mpl.ratio;\n\n    this.send_message(name, {x: x, y: y, button: event.button,\n                             step: event.step,\n                             guiEvent: simpleKeys(event)});\n\n    /* This prevents the web browser from automatically changing to\n     * the text insertion cursor when the button is pressed.  We want\n     * to control all of the cursor setting manually through the\n     * 'cursor' event from matplotlib */\n    event.preventDefault();\n    return false;\n}\n\nmpl.figure.prototype._key_event_extra = function(event, name) {\n    // Handle any extra behaviour associated with a key event\n}\n\nmpl.figure.prototype.key_event = function(event, name) {\n\n    // Prevent repeat events\n    if (name == 'key_press')\n    {\n        if (event.which === this._key)\n            return;\n        else\n            this._key = event.which;\n    }\n    if (name == 'key_release')\n        this._key = null;\n\n    var value = '';\n    if (event.ctrlKey && event.which != 17)\n        value += \"ctrl+\";\n    if (event.altKey && event.which != 18)\n        value += \"alt+\";\n    if (event.shiftKey && event.which != 16)\n        value += \"shift+\";\n\n    value += 'k';\n    value += event.which.toString();\n\n    this._key_event_extra(event, name);\n\n    this.send_message(name, {key: value,\n                             guiEvent: simpleKeys(event)});\n    return false;\n}\n\nmpl.figure.prototype.toolbar_button_onclick = function(name) {\n    if (name == 'download') {\n        this.handle_save(this, null);\n    } else {\n        this.send_message(\"toolbar_button\", {name: name});\n    }\n};\n\nmpl.figure.prototype.toolbar_button_onmouseover = function(tooltip) {\n    this.message.textContent = tooltip;\n};\nmpl.toolbar_items = [[\"Home\", \"Reset original view\", \"fa fa-home icon-home\", \"home\"], [\"Back\", \"Back to previous view\", \"fa fa-arrow-left icon-arrow-left\", \"back\"], [\"Forward\", \"Forward to next view\", \"fa fa-arrow-right icon-arrow-right\", \"forward\"], [\"\", \"\", \"\", \"\"], [\"Pan\", \"Pan axes with left mouse, zoom with right\", \"fa fa-arrows icon-move\", \"pan\"], [\"Zoom\", \"Zoom to rectangle\", \"fa fa-square-o icon-check-empty\", \"zoom\"], [\"\", \"\", \"\", \"\"], [\"Download\", \"Download plot\", \"fa fa-floppy-o icon-save\", \"download\"]];\n\nmpl.extensions = [\"eps\", \"jpeg\", \"pdf\", \"png\", \"ps\", \"raw\", \"svg\", \"tif\"];\n\nmpl.default_extension = \"png\";var comm_websocket_adapter = function(comm) {\n    // Create a \"websocket\"-like object which calls the given IPython comm\n    // object with the appropriate methods. Currently this is a non binary\n    // socket, so there is still some room for performance tuning.\n    var ws = {};\n\n    ws.close = function() {\n        comm.close()\n    };\n    ws.send = function(m) {\n        //console.log('sending', m);\n        comm.send(m);\n    };\n    // Register the callback with on_msg.\n    comm.on_msg(function(msg) {\n        //console.log('receiving', msg['content']['data'], msg);\n        // Pass the mpl event to the overridden (by mpl) onmessage function.\n        ws.onmessage(msg['content']['data'])\n    });\n    return ws;\n}\n\nmpl.mpl_figure_comm = function(comm, msg) {\n    // This is the function which gets called when the mpl process\n    // starts-up an IPython Comm through the \"matplotlib\" channel.\n\n    var id = msg.content.data.id;\n    // Get hold of the div created by the display call when the Comm\n    // socket was opened in Python.\n    var element = $(\"#\" + id);\n    var ws_proxy = comm_websocket_adapter(comm)\n\n    function ondownload(figure, format) {\n        window.open(figure.imageObj.src);\n    }\n\n    var fig = new mpl.figure(id, ws_proxy,\n                           ondownload,\n                           element.get(0));\n\n    // Call onopen now - mpl needs it, as it is assuming we've passed it a real\n    // web socket which is closed, not our websocket->open comm proxy.\n    ws_proxy.onopen();\n\n    fig.parent_element = element.get(0);\n    fig.cell_info = mpl.find_output_cell(\"<div id='\" + id + \"'></div>\");\n    if (!fig.cell_info) {\n        console.error(\"Failed to find cell for figure\", id, fig);\n        return;\n    }\n\n    var output_index = fig.cell_info[2]\n    var cell = fig.cell_info[0];\n\n};\n\nmpl.figure.prototype.handle_close = function(fig, msg) {\n    var width = fig.canvas.width/mpl.ratio\n    fig.root.unbind('remove')\n\n    // Update the output cell to use the data from the current canvas.\n    fig.push_to_output();\n    var dataURL = fig.canvas.toDataURL();\n    // Re-enable the keyboard manager in IPython - without this line, in FF,\n    // the notebook keyboard shortcuts fail.\n    IPython.keyboard_manager.enable()\n    $(fig.parent_element).html('<img src=\"' + dataURL + '\" width=\"' + width + '\">');\n    fig.close_ws(fig, msg);\n}\n\nmpl.figure.prototype.close_ws = function(fig, msg){\n    fig.send_message('closing', msg);\n    // fig.ws.close()\n}\n\nmpl.figure.prototype.push_to_output = function(remove_interactive) {\n    // Turn the data on the canvas into data in the output cell.\n    var width = this.canvas.width/mpl.ratio\n    var dataURL = this.canvas.toDataURL();\n    this.cell_info[1]['text/html'] = '<img src=\"' + dataURL + '\" width=\"' + width + '\">';\n}\n\nmpl.figure.prototype.updated_canvas_event = function() {\n    // Tell IPython that the notebook contents must change.\n    IPython.notebook.set_dirty(true);\n    this.send_message(\"ack\", {});\n    var fig = this;\n    // Wait a second, then push the new image to the DOM so\n    // that it is saved nicely (might be nice to debounce this).\n    setTimeout(function () { fig.push_to_output() }, 1000);\n}\n\nmpl.figure.prototype._init_toolbar = function() {\n    var fig = this;\n\n    var nav_element = $('<div/>');\n    nav_element.attr('style', 'width: 100%');\n    this.root.append(nav_element);\n\n    // Define a callback function for later on.\n    function toolbar_event(event) {\n        return fig.toolbar_button_onclick(event['data']);\n    }\n    function toolbar_mouse_event(event) {\n        return fig.toolbar_button_onmouseover(event['data']);\n    }\n\n    for(var toolbar_ind in mpl.toolbar_items){\n        var name = mpl.toolbar_items[toolbar_ind][0];\n        var tooltip = mpl.toolbar_items[toolbar_ind][1];\n        var image = mpl.toolbar_items[toolbar_ind][2];\n        var method_name = mpl.toolbar_items[toolbar_ind][3];\n\n        if (!name) { continue; };\n\n        var button = $('<button class=\"btn btn-default\" href=\"#\" title=\"' + name + '\"><i class=\"fa ' + image + ' fa-lg\"></i></button>');\n        button.click(method_name, toolbar_event);\n        button.mouseover(tooltip, toolbar_mouse_event);\n        nav_element.append(button);\n    }\n\n    // Add the status bar.\n    var status_bar = $('<span class=\"mpl-message\" style=\"text-align:right; float: right;\"/>');\n    nav_element.append(status_bar);\n    this.message = status_bar[0];\n\n    // Add the close button to the window.\n    var buttongrp = $('<div class=\"btn-group inline pull-right\"></div>');\n    var button = $('<button class=\"btn btn-mini btn-primary\" href=\"#\" title=\"Stop Interaction\"><i class=\"fa fa-power-off icon-remove icon-large\"></i></button>');\n    button.click(function (evt) { fig.handle_close(fig, {}); } );\n    button.mouseover('Stop Interaction', toolbar_mouse_event);\n    buttongrp.append(button);\n    var titlebar = this.root.find($('.ui-dialog-titlebar'));\n    titlebar.prepend(buttongrp);\n}\n\nmpl.figure.prototype._root_extra_style = function(el){\n    var fig = this\n    el.on(\"remove\", function(){\n\tfig.close_ws(fig, {});\n    });\n}\n\nmpl.figure.prototype._canvas_extra_style = function(el){\n    // this is important to make the div 'focusable\n    el.attr('tabindex', 0)\n    // reach out to IPython and tell the keyboard manager to turn it's self\n    // off when our div gets focus\n\n    // location in version 3\n    if (IPython.notebook.keyboard_manager) {\n        IPython.notebook.keyboard_manager.register_events(el);\n    }\n    else {\n        // location in version 2\n        IPython.keyboard_manager.register_events(el);\n    }\n\n}\n\nmpl.figure.prototype._key_event_extra = function(event, name) {\n    var manager = IPython.notebook.keyboard_manager;\n    if (!manager)\n        manager = IPython.keyboard_manager;\n\n    // Check for shift+enter\n    if (event.shiftKey && event.which == 13) {\n        this.canvas_div.blur();\n        event.shiftKey = false;\n        // Send a \"J\" for go to next cell\n        event.which = 74;\n        event.keyCode = 74;\n        manager.command_mode();\n        manager.handle_keydown(event);\n    }\n}\n\nmpl.figure.prototype.handle_save = function(fig, msg) {\n    fig.ondownload(fig, null);\n}\n\n\nmpl.find_output_cell = function(html_output) {\n    // Return the cell and output element which can be found *uniquely* in the notebook.\n    // Note - this is a bit hacky, but it is done because the \"notebook_saving.Notebook\"\n    // IPython event is triggered only after the cells have been serialised, which for\n    // our purposes (turning an active figure into a static one), is too late.\n    var cells = IPython.notebook.get_cells();\n    var ncells = cells.length;\n    for (var i=0; i<ncells; i++) {\n        var cell = cells[i];\n        if (cell.cell_type === 'code'){\n            for (var j=0; j<cell.output_area.outputs.length; j++) {\n                var data = cell.output_area.outputs[j];\n                if (data.data) {\n                    // IPython >= 3 moved mimebundle to data attribute of output\n                    data = data.data;\n                }\n                if (data['text/html'] == html_output) {\n                    return [cell, data, j];\n                }\n            }\n        }\n    }\n}\n\n// Register the function which deals with the matplotlib target/channel.\n// The kernel may be null if the page has been refreshed.\nif (IPython.notebook.kernel != null) {\n    IPython.notebook.kernel.comm_manager.register_target('matplotlib', mpl.mpl_figure_comm);\n}\n",
      "text/plain": [
       "<IPython.core.display.Javascript object>"
      ]
     },
     "metadata": {},
     "output_type": "display_data"
    },
    {
     "data": {
      "text/html": [
       "<div id='7dbd0782-24be-4c35-81c8-0d38c1065e36'></div>"
      ],
      "text/plain": [
       "<IPython.core.display.HTML object>"
      ]
     },
     "metadata": {},
     "output_type": "display_data"
    },
    {
     "data": {
      "text/plain": [
       "<matplotlib.axes._subplots.AxesSubplot at 0x7f7fdf3d8a20>"
      ]
     },
     "execution_count": 248,
     "metadata": {},
     "output_type": "execute_result"
    }
   ],
   "source": [
    "nv, b = compose_experiment(535, 3)\n",
    "\n",
    "fig, (ax1,ax2) = plt.subplots(1,2, figsize=(15,7))  # 1 row, 2 columns\n",
    "nv.plot.scatter(x='Laser Power (V)', y='PL (counts/s)', ax=ax1, title=f\"NV-Center {SAMPLE_NUMBER}  - Voltage to PhotoLuminesence\")\n",
    "b.plot.scatter(x='Laser Power (V)', y='PL (counts/s)', ax=ax2, title=\"Background - Voltage to PhotoLuminesence\")"
   ]
  },
  {
   "cell_type": "code",
   "execution_count": 252,
   "metadata": {},
   "outputs": [
    {
     "data": {
      "text/plain": [
       "<matplotlib.axes._subplots.AxesSubplot at 0x7f7fdf284dd8>"
      ]
     },
     "execution_count": 252,
     "metadata": {},
     "output_type": "execute_result"
    },
    {
     "data": {
      "image/png": "[encoded data removed]",
      "text/plain": [
       "<Figure size 1080x504 with 2 Axes>"
      ]
     },
     "metadata": {
      "needs_background": "light"
     },
     "output_type": "display_data"
    }
   ],
   "source": [
    "nv, b = compose_experiment(535, 3)\n",
    "\n",
    "fig, (ax1,ax2) = plt.subplots(1,2, figsize=(15,7))  # 1 row, 2 columns\n",
    "nv.plot(x='Laser Power (V)', y='PL (counts/s)', ax=ax1, kind='scatter', title=f\"NV-Center {SAMPLE_NUMBER}  - Voltage to PhotoLuminesence\")\n",
    "b.plot(x='Laser Power (V)', y='PL (counts/s)', ax=ax2, kind='scatter', title=\"Background - Voltage to PhotoLuminesence\")"
   ]
  },
  {
   "attachments": {},
   "cell_type": "markdown",
   "metadata": {},
   "source": [
    "Let's visualize some random, seemingly unrelated columns for good fun"
   ]
  },
  {
   "cell_type": "code",
   "execution_count": null,
   "metadata": {},
   "outputs": [],
   "source": [
    "nv, b = compose_experiment(535, 3)\n",
    "\n",
    "fig, (ax1,ax2) = plt.subplots(1,2, figsize=(10,4))  # 1 row, 2 columns\n",
    "nv.plot(x='Laser Power (V)', y='PC (pA)', ax=ax1, title=\"NV-Center - Voltage to Photocurrent\", kind='line')\n",
    "b.plot(x='Laser Power (V)', y='PC (pA)', ax=ax2, title=\"Background - Voltage to Photocurrent\", kind='line')"
   ]
  },
  {
   "cell_type": "code",
   "execution_count": null,
   "metadata": {},
   "outputs": [],
   "source": [
    "nv, b = compose_experiment(555, 2)\n",
    "\n",
    "fig, (ax1,ax2) = plt.subplots(1,2, figsize=(10,4))  # 1 row, 2 columns\n",
    "nv.plot(x='PC (pA)', y='PL (counts/s)', ax=ax1, title=\"NV-Center - Voltage to PhotoLuminesence\")\n",
    "b.plot(x='PC (pA)', y='PL (counts/s)', ax=ax2, title=\"Background - Voltage to PhotoLuminesence\")"
   ]
  },
  {
   "cell_type": "code",
   "execution_count": null,
   "metadata": {},
   "outputs": [],
   "source": [
    "nv, b = compose_experiment(555, 3)\n",
    "\n",
    "fig, (ax1,ax2) = plt.subplots(1,2, figsize=(10,4))  # 1 row, 2 columns\n",
    "nv.plot(x='PC (pA)', y='PL (counts/s)', ax=ax1, title=\"NV-Center - Voltage to PhotoLuminesence\")\n",
    "b.plot(x='PC (pA)', y='PL (counts/s)', ax=ax2, title=\"Background - Voltage to PhotoLuminesence\")"
   ]
  },
  {
   "attachments": {},
   "cell_type": "markdown",
   "metadata": {},
   "source": [
    "## Basic Fitting\n",
    "\n",
    "In this section, we'll be building up the code from the ground up, to fit the `Laser Power x PL relationship`, measured on the background.\n",
    "\n",
    "If everything works well in this section, we can bundle everything nicely into automatable functions, and process all experiments at once. After this comes the opportunity for visualization, and analysis."
   ]
  },
  {
   "cell_type": "code",
   "execution_count": null,
   "metadata": {},
   "outputs": [],
   "source": [
    "from sklearn.linear_model import LinearRegression # linear regression\n",
    "from sklearn.model_selection import train_test_split # split dataset into train & testing\n",
    "from sklearn.metrics import mean_squared_error # calculate error"
   ]
  },
  {
   "cell_type": "code",
   "execution_count": null,
   "metadata": {},
   "outputs": [],
   "source": [
    "# get single data sample\n",
    "nv, b = compose_experiment(535, 3)\n",
    "\n",
    "# showcase Laser Power x PL\n",
    "fig, (ax1,ax2) = plt.subplots(1,2, figsize=(13,6))  # 1 row, 2 columns\n",
    "nv.plot(x='Laser Power (V)', y='PL (counts/s)', ax=ax1, title=f\"NV-Center {SAMPLE_NUMBER}  - Voltage to PhotoLuminesence\")\n",
    "b.plot(x='Laser Power (V)', y='PL (counts/s)', ax=ax2, title=f\"Background {SAMPLE_NUMBER}  - Voltage to PhotoLuminesence\")"
   ]
  },
  {
   "attachments": {},
   "cell_type": "markdown",
   "metadata": {},
   "source": [
    "Here's a basic way to fit in python using scikitlearn."
   ]
  },
  {
   "cell_type": "code",
   "execution_count": null,
   "metadata": {},
   "outputs": [],
   "source": [
    "from sklearn.model_selection import train_test_split # split dataset into train & testing\n",
    "from sklearn.metrics import max_error, mean_absolute_error # calculate error\n",
    "\n",
    "# fit background PL(V) function, should be linear\n",
    "X = b['Laser Power (V)'].to_numpy()\n",
    "y = b['PL (counts/s)'].to_numpy()\n",
    "\n",
    "# reshape data - [a,b,c,d] -> [[a], [b], [c], [d]] (because we have 1 feature for X)\n",
    "X = X.reshape(-1, 1)\n",
    "\n",
    "# split dataset into 80% for training, 20% for testing\n",
    "X_train, X_test, y_train, y_test = train_test_split(X, y, test_size=0.2, random_state=0) \n",
    "\n",
    "# fit regression\n",
    "reg = LinearRegression().fit(X_train, y_train)\n",
    "\n",
    "# predict on unseen values (X_test)\n",
    "y_pred = reg.predict(X_test)\n",
    "\n",
    "# plot input values, and fit\n",
    "plt.scatter(X_train, y_train,color='r') \n",
    "plt.plot(X_test, y_pred,color='k')\n",
    "\n",
    "print(\"mean_absolute_error:\", mean_absolute_error(y_test,y_pred), \" - max_error:\", max_error(y_test,y_pred))"
   ]
  },
  {
   "attachments": {},
   "cell_type": "markdown",
   "metadata": {},
   "source": [
    "This looks good enough! Let's subtract the **background PL counts** from NV-Center Counts, using the trained logistic regression."
   ]
  },
  {
   "cell_type": "code",
   "execution_count": null,
   "metadata": {},
   "outputs": [],
   "source": [
    "# conver the column into a readily base for regressing\n",
    "laser_power_nv = nv['Laser Power (V)'].to_numpy().reshape(-1,1)\n",
    "\n",
    "# apply PL-count Regression\n",
    "nv['PL_background'] = reg.predict(laser_power_nv)\n",
    "\n",
    "# subtract background counts from NV counts\n",
    "nv['PL_actual (#/s)'] = nv['PL (counts/s)'] - nv['PL_background']"
   ]
  },
  {
   "attachments": {},
   "cell_type": "markdown",
   "metadata": {},
   "source": [
    "And to visualize our results"
   ]
  },
  {
   "cell_type": "code",
   "execution_count": null,
   "metadata": {},
   "outputs": [],
   "source": [
    "fig, (ax1) = plt.subplots(1,1, figsize=(10,5))  # 1 row, 2 columns\n",
    "nv.plot(x='Laser Power (V)', y='PL_actual (#/s)', ax=ax1, title=f\"NV-Center {SAMPLE_NUMBER} - Saturation Curve - Power vs PhotoLuminesence\")"
   ]
  },
  {
   "attachments": {},
   "cell_type": "markdown",
   "metadata": {},
   "source": [
    "Looks good! For our next task:\n",
    "\n",
    "> Let's add a simple regression technique, to convert laserpower from `Voltage` to `Watt`."
   ]
  },
  {
   "cell_type": "code",
   "execution_count": null,
   "metadata": {},
   "outputs": [],
   "source": [
    "# read power to voltage data\n",
    "df_pwr = pd.read_excel('laser power PDA (v) - powermeter (mW).xls', sheet_name=\"RAW\", header=1)\n",
    "df_pwr.head()"
   ]
  },
  {
   "cell_type": "code",
   "execution_count": null,
   "metadata": {},
   "outputs": [],
   "source": [
    "def get_laser_pwr_fits_V_to_W():\n",
    "\t# read power to voltage data\n",
    "\tdf_pwr = pd.read_excel('laser power PDA (v) - powermeter (mW).xls', sheet_name=\"RAW\", header=1)\n",
    "\n",
    "\t# for each wavelength, store a linear regression\n",
    "\tregression_models = {}\n",
    "\n",
    "\t# make a list of available wavelengths\n",
    "\twavelengths = [535+x*5 for x in range(8)]\n",
    "\n",
    "\tfor w in wavelengths:\n",
    "\n",
    "\t\t# fit background PL(V) function, should be linear\n",
    "\t\tX = df_pwr[f'{w}_V'].to_numpy()\n",
    "\t\ty = df_pwr[f'{w}_mW'].to_numpy()\n",
    "\n",
    "\t\t# reshape data - [a,b,c,d] -> [[a], [b], [c], [d]] (because we have 1 feature for X)\n",
    "\t\tX = X.reshape(-1, 1)\n",
    "\n",
    "\t\t# fit regression\n",
    "\t\treg = LinearRegression().fit(X, y)\n",
    "\n",
    "\t\t# store fit\n",
    "\t\tregression_models[w] = reg\n",
    "\n",
    "\t\t# predict on unseen values (X_test)\n",
    "\t\ty_pred = reg.predict(X)\n",
    "\n",
    "\t\t# plot input values, and fit\n",
    "\t\tplt.scatter(X, y,color='r') \n",
    "\t\tplt.plot(X, y_pred,color='k')\n",
    "\t\n",
    "\treturn regression_models"
   ]
  },
  {
   "cell_type": "code",
   "execution_count": null,
   "metadata": {},
   "outputs": [],
   "source": [
    "laser_pwr_V_to_W = get_laser_pwr_fits_V_to_W()"
   ]
  },
  {
   "cell_type": "code",
   "execution_count": null,
   "metadata": {},
   "outputs": [],
   "source": [
    "laser_pwr_V_to_W"
   ]
  },
  {
   "attachments": {},
   "cell_type": "markdown",
   "metadata": {},
   "source": [
    "Let's convert `Laser Power (V)` to `Laser Power (mW)`"
   ]
  },
  {
   "cell_type": "code",
   "execution_count": null,
   "metadata": {},
   "outputs": [],
   "source": [
    "# conver the column into a readily base for regressing\n",
    "laser_power_nv = nv['Laser Power (V)'].to_numpy().reshape(-1,1)\n",
    "wavelength = nv['Wavelength'][0]\n",
    "\n",
    "# apply PL-count Regression\n",
    "nv['Laser Power (mW)'] = laser_pwr_V_to_W[wavelength].predict(laser_power_nv)"
   ]
  },
  {
   "attachments": {},
   "cell_type": "markdown",
   "metadata": {},
   "source": [
    "And plot the results"
   ]
  },
  {
   "cell_type": "code",
   "execution_count": null,
   "metadata": {},
   "outputs": [],
   "source": [
    "fig, (ax1, ax2) = plt.subplots(1,2, figsize=(14,6))  # 1 row, 2 columns\n",
    "nv.plot(x='Laser Power (V)', y='PL_actual (#/s)', ax=ax1, kind='scatter', title=f\"NV-Center {SAMPLE_NUMBER} - Saturation Curve - Power (V) vs PhotoLuminesence\")\n",
    "nv.plot(x='Laser Power (mW)', y='PL_actual (#/s)', ax=ax2, kind='scatter', title=f\"NV-Center {SAMPLE_NUMBER} - Saturation Curve - Power (mW) vs PhotoLuminesence\")"
   ]
  },
  {
   "attachments": {},
   "cell_type": "markdown",
   "metadata": {},
   "source": [
    "Looks good! Let's turn everything into one nice function"
   ]
  },
  {
   "attachments": {},
   "cell_type": "markdown",
   "metadata": {},
   "source": [
    "## Define Automation"
   ]
  },
  {
   "cell_type": "code",
   "execution_count": null,
   "metadata": {},
   "outputs": [],
   "source": [
    "def get_params(filename):\n",
    "\t\"\"\" Retrieve parameters from a filename \"\"\"\n",
    "\n",
    "\tid_string = filename.split('/')[1][17:]\n",
    "\n",
    "\t# pluck identifying information\n",
    "\tcc = id_string.split('-') # split into parts with - inbetween\n",
    "\t\t\n",
    "\twavelength = cc[0]; # wavelength\n",
    "\tlocation = cc[1]; # background (b) or nv-center (nv)\n",
    "\tix = cc[2].split('.')[0]; # experiment #\n",
    "\n",
    "\treturn wavelength, location, ix"
   ]
  },
  {
   "cell_type": "code",
   "execution_count": null,
   "metadata": {},
   "outputs": [],
   "source": [
    "def read_filename(filename):\n",
    "\t\"\"\" Data preparation of a single experiment file \"\"\"\n",
    "\n",
    "\t# read table\n",
    "\tdf = pd.read_csv(filename, sep='\\t', decimal='.', header=None)\n",
    "\n",
    "\t# EG, FILENAME='PL_PC_records/PL and PC record-535-b-2.txt' --> ID_STRING='535-b-2.txt'\n",
    "\tid_string = filename.split('/')[1][17:]\n",
    "\n",
    "\t# pluck identifying information\n",
    "\tcc = id_string.split('-') # split into parts with - inbetween\n",
    "\twavelength = cc[0]; # wavelength\n",
    "\tlocation = cc[1]; # background (b) or nv-center (nv)\n",
    "\tix = cc[2].split('.')[0]; # experiment #\n",
    "\n",
    "\t# file has rows for columns, thus transpose\n",
    "\tdf = df.transpose()\n",
    "\n",
    "\t# assign column meaning\n",
    "\tdf['Laser Power (V)'] = df[0] # the header became the index after transposition\n",
    "\tdf['PL (counts/s)'] = df[1]\n",
    "\tdf['PC (pA)'] = df[2]\n",
    "\n",
    "\t# make the index a simple counter\n",
    "\tdf = df.reset_index()\n",
    "\n",
    "\t# keep columns of interest\n",
    "\tdf = df[['Laser Power (V)', 'PL (counts/s)', 'PC (pA)']]\n",
    "\n",
    "\t# assign identifiers to dataframe\n",
    "\tdf['Wavelength'] = int(wavelength)\n",
    "\tdf['Location'] = location\n",
    "\tdf['Experiment #'] = ix\n",
    "\n",
    "\tdf['Laser Power (V)'] = df['Laser Power (V)'].astype(float)\n",
    "\tdf['PL (counts/s)'] = df['PL (counts/s)'].astype(float)\n",
    "\tdf['PC (pA)'] =  df['PC (pA)'].astype(float)\n",
    "\n",
    "\treturn df, wavelength, location, ix"
   ]
  },
  {
   "cell_type": "code",
   "execution_count": null,
   "metadata": {},
   "outputs": [],
   "source": [
    "def compose_experiment(wavelength, iteration):\n",
    "    \"\"\" Gather background and NV data, and return pair \"\"\"\n",
    "    \n",
    "    nv_filename = 'PL_PC_records/PL and PC record-' + str(wavelength) + '-nv-' + str(iteration) + '.txt'\n",
    "    b_filename  = 'PL_PC_records/PL and PC record-' + str(wavelength) + '-b-' + str(iteration) + '.txt'\n",
    "    \n",
    "    print (f\"reading nv - {wavelength} - {iteration}\")\n",
    "    nv_df, _ , _ , _  = read_filename(nv_filename)\n",
    "    \n",
    "    print (f\"reading b - {wavelength} - {iteration}\")\n",
    "    b_df , _ , _ , _ = read_filename(b_filename)\t\n",
    "    \n",
    "    return nv_df, b_df"
   ]
  },
  {
   "cell_type": "code",
   "execution_count": null,
   "metadata": {},
   "outputs": [],
   "source": [
    "def get_laser_pwr_fits_V_to_W():\n",
    "\t\"\"\" This function reads an excel sheet with experimental data, and spits out 8 linear regressions  \"\"\"\n",
    "\t# read power to voltage data\n",
    "\tdf_pwr = pd.read_excel('laser power PDA (v) - powermeter (mW).xls', sheet_name=\"RAW\", header=1)\n",
    "\n",
    "\t# for each wavelength, store a linear regression\n",
    "\tregression_models = {}\n",
    "\n",
    "\t# make a list of available wavelengths\n",
    "\twavelengths = [535+x*5 for x in range(8)]\n",
    "\n",
    "\tfor w in wavelengths:\n",
    "\n",
    "\t\t# fit background PL(V) function, should be linear\n",
    "\t\tX = df_pwr[f'{w}_V'].to_numpy()\n",
    "\t\ty = df_pwr[f'{w}_mW'].to_numpy()\n",
    "\n",
    "\t\t# reshape data - [a,b,c,d] -> [[a], [b], [c], [d]] (because we have 1 feature for X)\n",
    "\t\tX = X.reshape(-1, 1)\n",
    "\n",
    "\t\t# fit regression\n",
    "\t\treg = LinearRegression().fit(X, y)\n",
    "\n",
    "\t\t# store fit\n",
    "\t\tregression_models[w] = reg\n",
    "\n",
    "\t\t# predict on unseen values (X_test)\n",
    "\t\ty_pred = reg.predict(X)\n",
    "\n",
    "\t\t# plot input values, and fit\n",
    "\t\tplt.scatter(X, y,color='r') \n",
    "\t\tplt.plot(X, y_pred,color='k')\n",
    "\t\n",
    "\treturn regression_models"
   ]
  },
  {
   "cell_type": "code",
   "execution_count": null,
   "metadata": {},
   "outputs": [],
   "source": [
    "def get_saturation_curve(wavelength, iteration):\n",
    "\n",
    "\t# get nv-center and background data\n",
    "\tnv, b = compose_experiment(wavelength, iteration)\n",
    "\n",
    "\t# fit background PL(V) function, should be linear\n",
    "\tX = b['Laser Power (V)'].to_numpy()\n",
    "\ty = b['PL (counts/s)'].to_numpy()\n",
    "\n",
    "\t# reshape data - [a,b,c,d] -> [[a], [b], [c], [d]] (because we have 1 feature for X)\n",
    "\tX = X.reshape(-1, 1)\n",
    "\n",
    "\t# split dataset into 80% for training, 20% for testing\n",
    "\tX_train, X_test, y_train, y_test = train_test_split(X, y, test_size=0.2, random_state=0) \n",
    "\n",
    "\t# fit regression\n",
    "\treg = LinearRegression().fit(X_train, y_train)\n",
    "\n",
    "\t# predict on unseen values (X_test)\n",
    "\ty_pred = reg.predict(X_test)\n",
    "\tmetric_mean_err = mean_absolute_error(y_test,y_pred)\n",
    "\tmetric_max_err = max_error(y_test,y_pred)\n",
    "\tprint(\"mean_absolute_error:\", mean_absolute_error(y_test,y_pred), \" - max_error:\", max_error(y_test,y_pred))\n",
    "\n",
    "\t########## SUBTRACT BACKGROUND\n",
    "\n",
    "\t# conver the column into a readily base for regressing\n",
    "\tlaser_power_nv = nv['Laser Power (V)'].to_numpy().reshape(-1,1)\n",
    "\n",
    "\t# apply PL-count Regression\n",
    "\tnv['PL_background'] = reg.predict(laser_power_nv)\n",
    "\n",
    "\t# subtract background counts from NV counts\n",
    "\tnv['PL_NV (#/s)'] = nv['PL (counts/s)'] - nv['PL_background']\n",
    "\n",
    "\t########## POWER - VOLTAGE to WATTAGE\n",
    "\n",
    "\t# conver the column into a vector for regression\n",
    "\tlaser_power_nv_X = nv['Laser Power (V)'].to_numpy().reshape(-1,1)\n",
    "\n",
    "\t# apply PL-count Regression\n",
    "\tnv['Laser Power (mW)'] = laser_pwr_V_to_W[int(wavelength)].predict(laser_power_nv_X)\n",
    "\t\n",
    "\treturn nv, {'wavelength': int(wavelength), 'iteration': int(iteration), 'metric_mean_err':metric_mean_err, 'metric_mean_err':metric_max_err }\n",
    "\n"
   ]
  },
  {
   "cell_type": "code",
   "execution_count": null,
   "metadata": {},
   "outputs": [],
   "source": []
  },
  {
   "attachments": {},
   "cell_type": "markdown",
   "metadata": {},
   "source": [
    "## Run Automation (single file)"
   ]
  },
  {
   "cell_type": "code",
   "execution_count": null,
   "metadata": {},
   "outputs": [],
   "source": [
    "# get laser power regressions (V to W)\n",
    "laser_pwr_V_to_W = get_laser_pwr_fits_V_to_W()"
   ]
  },
  {
   "cell_type": "code",
   "execution_count": null,
   "metadata": {},
   "outputs": [],
   "source": [
    "laser_pwr_V_to_W"
   ]
  },
  {
   "cell_type": "code",
   "execution_count": null,
   "metadata": {},
   "outputs": [],
   "source": [
    "laser_pwr_V_to_W[535].predict([[2.30]])"
   ]
  },
  {
   "cell_type": "code",
   "execution_count": null,
   "metadata": {},
   "outputs": [],
   "source": [
    "df, metrics = get_saturation_curve(535, 1)\n",
    "\n",
    "fig, (ax1, ax2) = plt.subplots(1,2, figsize=(10,4))  # 1 row, 2 columns\n",
    "df.plot.scatter(x='Laser Power (V)', y='PL_NV (#/s)', ax=ax1, title=f\"NV-Center {SAMPLE_NUMBER} - Saturation Curve - Power (V) vs PhotoLuminesence\")\n",
    "df.plot.scatter(x='Laser Power (mW)', y='PL_NV (#/s)', ax=ax2, title=f\"NV-Center {SAMPLE_NUMBER} - Saturation Curve - Power (mW) vs PhotoLuminesence\")\n"
   ]
  },
  {
   "cell_type": "code",
   "execution_count": null,
   "metadata": {},
   "outputs": [],
   "source": [
    "## Run Over All Files\n",
    "\n",
    "all_saturation_curves = [] # will store all saturation curves\n",
    "all_saturation_curves_on_wavelength = {} # dict: { wavelength: df_saturation curve }\n",
    "experiments_done = {}\n",
    "\n",
    "# determine a cood metric for a good experiment\n",
    "metrics_df = pd.DataFrame()\n",
    "\n",
    "# import required module\n",
    "import os\n",
    "# assign directory\n",
    "directory = 'PL_PC_records'\n",
    "FILE_PREFIX_CHECK = 'PL and PC record'\n",
    " \n",
    "# iterate over files in\n",
    "# that directory\n",
    "for filename in os.listdir(directory):\n",
    "    f = os.path.join(directory, filename)\n",
    "    # checking if it is a file\n",
    "    if os.path.isfile(f):\n",
    "\n",
    "        # skip if this isn't out file\n",
    "        prefx = f.split('/')[1][:16]\n",
    "        if prefx != FILE_PREFIX_CHECK:\n",
    "            continue\n",
    "\n",
    "        # extract parameters\n",
    "        wavelength, loc, exp_iter = get_params(f)\n",
    "        \n",
    "        # skip iteration, if we've processed this wavelength and experiment number\n",
    "        if wavelength in experiments_done:\n",
    "            if exp_iter in experiments_done[wavelength]:\n",
    "                continue\n",
    "                \n",
    "        print (f\"processing {wavelength} - Experiment {exp_iter}\")\n",
    "\n",
    "        # create saturation curve for this particullar wavelength, and exp_iter\n",
    "        df, metrics = get_saturation_curve(wavelength, exp_iter)\n",
    "        all_saturation_curves.append(df)\n",
    "        \n",
    "        metrics_df.append(metrics, ignore_index=True);\n",
    "\n",
    "        # register that we've processed this experiment\n",
    "        if wavelength not in experiments_done:\n",
    "            experiments_done[wavelength] = []\n",
    "            all_saturation_curves_on_wavelength[wavelength] = []\n",
    "            \n",
    "            # append dataframe\n",
    "            all_saturation_curves_on_wavelength[wavelength].append(df)\n",
    "            \n",
    "            # append id, such that we won't process this dataframe upon coupled entries\n",
    "            experiments_done[wavelength].append(exp_iter)\n",
    "        else:\n",
    "            \n",
    "            # append dataframe\n",
    "            all_saturation_curves_on_wavelength[wavelength].append(df)\n",
    "            \n",
    "            # append id, such that we won't process this dataframe upon coupled entries\n",
    "            experiments_done[wavelength].append(exp_iter)\n",
    "            \n",
    "            "
   ]
  },
  {
   "cell_type": "code",
   "execution_count": null,
   "metadata": {},
   "outputs": [],
   "source": [
    "all_saturation_curves[0]"
   ]
  },
  {
   "cell_type": "code",
   "execution_count": null,
   "metadata": {},
   "outputs": [],
   "source": [
    "# df_saturations_all = pd.DataFrame()\n",
    "\n",
    "# for df in all_saturation_curves:\n",
    "#     wavelength = df['wavelength'][0]\n",
    "#     exp_number = df['Experiment #'][0]\n",
    "    \n",
    "#     power = df['Laser Power (mW)']\n",
    "#     PL = df['PL_NV (#/s)']\n",
    "    \n",
    "#     df_saturations_all['wavelength'] = "
   ]
  },
  {
   "cell_type": "code",
   "execution_count": null,
   "metadata": {},
   "outputs": [],
   "source": []
  },
  {
   "cell_type": "code",
   "execution_count": null,
   "metadata": {},
   "outputs": [],
   "source": []
  },
  {
   "cell_type": "code",
   "execution_count": null,
   "metadata": {},
   "outputs": [],
   "source": []
  },
  {
   "cell_type": "code",
   "execution_count": null,
   "metadata": {},
   "outputs": [],
   "source": [
    "df = all_saturation_curves[0]\n",
    "\n",
    "fig, (ax1) = plt.subplots(1,1, figsize=(14,6))  # 1 row, 2 columns\n",
    "\n",
    "for df in all_saturation_curves:\n",
    "\tdf.plot.scatter(x='Laser Power (mW)', y='PL_NV (#/s)', ax=ax1, legend=True, title=f\"NV-Center {SAMPLE_NUMBER} - All Saturation Curves - Power (mW) vs PhotoLuminesence\")\n",
    "    "
   ]
  },
  {
   "cell_type": "code",
   "execution_count": null,
   "metadata": {},
   "outputs": [],
   "source": [
    "from matplotlib import cm\n",
    "from matplotlib.colors import ListedColormap, LinearSegmentedColormap"
   ]
  },
  {
   "cell_type": "code",
   "execution_count": null,
   "metadata": {},
   "outputs": [],
   "source": [
    "df = all_saturation_curves[0]\n",
    "\n",
    "fig, (ax1) = plt.subplots(1,1, figsize=(14,6))  # 1 row, 2 columns\n",
    "\n",
    "for df in all_saturation_curves:\n",
    "\tdf.plot.scatter(x='Laser Power (mW)', y='PL_NV (#/s)', ax=ax1, legend=True, title=f\"NV-Center {SAMPLE_NUMBER} - All Saturation Curves - Power (mW) vs PhotoLuminesence\")\n",
    "    "
   ]
  },
  {
   "cell_type": "code",
   "execution_count": null,
   "metadata": {},
   "outputs": [],
   "source": [
    "def plot_experiments_at_wavelength_ax(wavelength, ax1):\n",
    "    \"\"\" This thing plots directly to the axis \"\"\"\n",
    "    dfs = all_saturation_curves_on_wavelength[wavelength]\n",
    "\n",
    "    plasma = cm.get_cmap('plasma', len(dfs))\n",
    "    colors = plasma(range(len(dfs)))\n",
    "\n",
    "    for ii, df in enumerate(dfs):\n",
    "\n",
    "        x = df['Laser Power (mW)'].to_numpy()\n",
    "        y = df['PL_NV (#/s)'].to_numpy()\n",
    "        wavelength = df['Wavelength'][0]\n",
    "        exp_no = df['Experiment #'][0]\n",
    "\n",
    "        ax1.scatter(x, y, s=4, c=[colors[ii]], label=f'{wavelength}-{exp_no}', alpha=0.8)\n",
    "\n",
    "    ax1.set_title(f\"NV-Center Saturation Curve - @{wavelength}nm\")\n",
    "    ax1.set_xlabel(\"Laser Power (mW)\")\n",
    "    ax1.set_ylabel(\"Photoluminescence (#/s)\")\n",
    "    ax1.legend()\n",
    "    ax1.grid(True)"
   ]
  },
  {
   "cell_type": "code",
   "execution_count": null,
   "metadata": {},
   "outputs": [],
   "source": [
    "def plot_experiments_at_wavelength(wavelength):\n",
    "    dfs = all_saturation_curves_on_wavelength[wavelength]\n",
    "    fig, (ax1) = plt.subplots(1,1, figsize=(10,6))  # 1 row, 2 columns\n",
    "\n",
    "    plasma = cm.get_cmap('plasma', len(dfs))\n",
    "    colors = plasma(range(len(dfs)))\n",
    "\n",
    "    for ii, df in enumerate(dfs):\n",
    "\n",
    "        x = df['Laser Power (mW)'].to_numpy()\n",
    "        y = df['PL_NV (#/s)'].to_numpy()\n",
    "        wavelength = df['Wavelength'][0]\n",
    "        exp_no = df['Experiment #'][0]\n",
    "\n",
    "        ax1.scatter(x, y, s=4, c=[colors[ii]], label=f'{wavelength}-{exp_no}', alpha=0.8)\n",
    "\n",
    "    ax1.set_title(f\"NV-Center Saturation Curve - @{wavelength}nm\")\n",
    "    \n",
    "    ax1.set_xlabel(\"Laser Power (mW)\")\n",
    "    ax1.set_ylabel(\"Photoluminescence (#/s)\")\n",
    "    ax1.legend()\n",
    "    ax1.grid(True)"
   ]
  },
  {
   "attachments": {},
   "cell_type": "markdown",
   "metadata": {},
   "source": [
    "Lets plot a grid, seperated on wavelength"
   ]
  },
  {
   "cell_type": "code",
   "execution_count": null,
   "metadata": {
    "scrolled": false
   },
   "outputs": [],
   "source": [
    "fig, axes = plt.subplots(8, 1, figsize=(7,20))  # 1 row, 2 columns\n",
    "\n",
    "axes.shape\n",
    "\n",
    "ii = 0\n",
    "for kk, dfs in all_saturation_curves_on_wavelength.items():\n",
    "    ax = axes[ii]\n",
    "    plot_experiments_at_wavelength_ax(kk, ax)\n",
    "    \n",
    "    ii+=1"
   ]
  },
  {
   "cell_type": "code",
   "execution_count": null,
   "metadata": {},
   "outputs": [],
   "source": []
  },
  {
   "cell_type": "code",
   "execution_count": null,
   "metadata": {},
   "outputs": [],
   "source": [
    "plot_experiments_at_wavelength('535')"
   ]
  },
  {
   "cell_type": "code",
   "execution_count": null,
   "metadata": {
    "scrolled": false
   },
   "outputs": [],
   "source": [
    "plot_experiments_at_wavelength('540')"
   ]
  },
  {
   "cell_type": "code",
   "execution_count": null,
   "metadata": {},
   "outputs": [],
   "source": [
    "plot_experiments_at_wavelength('545')"
   ]
  },
  {
   "cell_type": "code",
   "execution_count": null,
   "metadata": {},
   "outputs": [],
   "source": [
    "plot_experiments_at_wavelength('550')"
   ]
  },
  {
   "cell_type": "code",
   "execution_count": null,
   "metadata": {},
   "outputs": [],
   "source": [
    "plot_experiments_at_wavelength('555')"
   ]
  },
  {
   "cell_type": "code",
   "execution_count": null,
   "metadata": {},
   "outputs": [],
   "source": [
    "plot_experiments_at_wavelength('560')"
   ]
  },
  {
   "cell_type": "code",
   "execution_count": null,
   "metadata": {},
   "outputs": [],
   "source": [
    "import numpy as np\n",
    "import matplotlib.pyplot as plt\n",
    "from scipy.optimize import curve_fit"
   ]
  },
  {
   "attachments": {},
   "cell_type": "markdown",
   "metadata": {},
   "source": [
    "# Curve fitting\n",
    "\n"
   ]
  },
  {
   "cell_type": "code",
   "execution_count": null,
   "metadata": {},
   "outputs": [],
   "source": [
    "def func_to_fit(x, a, b, c, d, e):\n",
    "    return (a*(x**2) + b*x) / (c*(x**2) + d*x + e)"
   ]
  },
  {
   "cell_type": "code",
   "execution_count": null,
   "metadata": {},
   "outputs": [],
   "source": [
    "all_saturation_curves[0]"
   ]
  },
  {
   "attachments": {},
   "cell_type": "markdown",
   "metadata": {},
   "source": [
    "Let's fit sample number 0"
   ]
  },
  {
   "cell_type": "code",
   "execution_count": null,
   "metadata": {},
   "outputs": [],
   "source": [
    "df = all_saturation_curves[0]\n",
    "fig, (ax1) = plt.subplots(1,1, figsize=(14,6))  # 1 row, 2 columns\n",
    "df.plot.scatter(x='Laser Power (mW)', y='PL_NV (#/s)', ax=ax1, legend=True, title=f\"NV-Center {SAMPLE_NUMBER} - All Saturation Curves - Power (mW) vs PhotoLuminesence\")"
   ]
  },
  {
   "cell_type": "code",
   "execution_count": null,
   "metadata": {},
   "outputs": [],
   "source": [
    "df = all_saturation_curves[0]\n",
    "\n",
    "# data\n",
    "x = df['Laser Power (mW)'].to_numpy()\n",
    "y = df['PL_NV (#/s)'].to_numpy()\n",
    "\n",
    "# function fit\n",
    "popt, pcov = curve_fit(func_to_fit, x, y)\n",
    "popt # contains fits for a-e\n",
    "\n",
    "fig, (ax1) = plt.subplots(1,1, figsize=(14,6))  # 1 row, 2 columns\n",
    "df.plot.scatter(x='Laser Power (mW)', y='PL_NV (#/s)', ax=ax1, legend=True, title=f\"NV-Center {SAMPLE_NUMBER} - All Saturation Curves - Power (mW) vs PhotoLuminesence\")\n",
    "\n",
    "plt.plot(x, func_to_fit(x, *popt), 'g--', label='fit: a=%5.3f, b=%5.3f, c=%5.3f, d=%5.3f, e=%5.3f' % tuple(popt))"
   ]
  },
  {
   "cell_type": "code",
   "execution_count": null,
   "metadata": {},
   "outputs": [],
   "source": [
    "df = all_saturation_curves[1]\n",
    "\n",
    "# data\n",
    "x = df['Laser Power (mW)'].to_numpy()\n",
    "y = df['PL_NV (#/s)'].to_numpy()\n",
    "\n",
    "# function fit\n",
    "popt, pcov = curve_fit(func_to_fit, x, y)\n",
    "popt # contains fits for a-e\n",
    "\n",
    "fig, (ax1) = plt.subplots(1,1, figsize=(14,6))  # 1 row, 2 columns\n",
    "df.plot.scatter(x='Laser Power (mW)', y='PL_NV (#/s)', ax=ax1, legend=True, title=f\"NV-Center {SAMPLE_NUMBER} - All Saturation Curves - Power (mW) vs PhotoLuminesence\")\n",
    "\n",
    "plt.plot(x, func_to_fit(x, *popt), 'g--', label='fit: a=%5.3f, b=%5.3f, c=%5.3f, d=%5.3f, e=%5.3f' % tuple(popt))"
   ]
  },
  {
   "cell_type": "code",
   "execution_count": null,
   "metadata": {},
   "outputs": [],
   "source": [
    "df = all_saturation_curves[2]\n",
    "\n",
    "# data\n",
    "x = df['Laser Power (mW)'].to_numpy()\n",
    "y = df['PL_NV (#/s)'].to_numpy()\n",
    "\n",
    "# function fit\n",
    "popt, pcov = curve_fit(func_to_fit, x, y)\n",
    "print(popt) # contains fits for a-e\n",
    "\n",
    "fig, (ax1) = plt.subplots(1,1, figsize=(14,6))  # 1 row, 2 columns\n",
    "df.plot.scatter(x='Laser Power (mW)', y='PL_NV (#/s)', ax=ax1, legend=True, title=f\"NV-Center {SAMPLE_NUMBER} - All Saturation Curves - Power (mW) vs PhotoLuminesence\")\n",
    "\n",
    "plt.plot(x, func_to_fit(x, *popt), 'g--', label='fit: a=%5.3f, b=%5.3f, c=%5.3f, d=%5.3f, e=%5.3f' % tuple(popt))\n",
    "plt.legend()"
   ]
  },
  {
   "cell_type": "code",
   "execution_count": null,
   "metadata": {},
   "outputs": [],
   "source": [
    "df = all_saturation_curves[3]\n",
    "\n",
    "# data\n",
    "x = df['Laser Power (mW)'].to_numpy()\n",
    "y = df['PL_NV (#/s)'].to_numpy()\n",
    "\n",
    "\n",
    "# function fit\n",
    "popt, pcov = curve_fit(func_to_fit, x, y)\n",
    "popt # contains fits for a-e\n",
    "\n",
    "fig, (ax1) = plt.subplots(1,1, figsize=(14,6))  # 1 row, 2 columns\n",
    "df.plot.scatter(x='Laser Power (mW)', y='PL_NV (#/s)', ax=ax1, legend=True, title=f\"NV-Center {SAMPLE_NUMBER} - All Saturation Curves - Power (mW) vs PhotoLuminesence\")\n",
    "\n",
    "plt.plot(x, func_to_fit(x, *popt), 'g--', label='fit: a=%5.3f, b=%5.3f, c=%5.3f, d=%5.3f, e=%5.3f' % tuple(popt))"
   ]
  },
  {
   "cell_type": "code",
   "execution_count": null,
   "metadata": {},
   "outputs": [],
   "source": [
    "df = all_saturation_curves[6]\n",
    "\n",
    "# data\n",
    "x = df['Laser Power (mW)'].to_numpy()\n",
    "y = df['PL_NV (#/s)'].to_numpy()\n",
    "\n",
    "# function fit\n",
    "popt, pcov = curve_fit(func_to_fit, x, y, bounds=[0, np.Inf])\n",
    "popt # contains fits for a-e\n",
    "\n",
    "fig, (ax1) = plt.subplots(1,1, figsize=(14,6))  # 1 row, 2 columns\n",
    "df.plot.scatter(x='Laser Power (mW)', y='PL_NV (#/s)', ax=ax1, legend=True, title=f\"NV-Center {SAMPLE_NUMBER} - All Saturation Curves - Power (mW) vs PhotoLuminesence\")\n",
    "\n",
    "plt.plot(x, func_to_fit(x, *popt), 'g--', label='fit: a=%5.3f, b=%5.3f, c=%5.3f, d=%5.3f, e=%5.3f' % tuple(popt))\n",
    "\n",
    "plt.legend()"
   ]
  },
  {
   "attachments": {},
   "cell_type": "markdown",
   "metadata": {},
   "source": [
    "Let's do it for a bunch of curves, for a given wavelength"
   ]
  },
  {
   "cell_type": "code",
   "execution_count": null,
   "metadata": {},
   "outputs": [],
   "source": [
    "for df in all_saturation_curves_on_wavelength['540']:\n",
    "\t\n",
    "\t# data\n",
    "\tx = df['Laser Power (mW)'].to_numpy()\n",
    "\ty = df['PL_NV (#/s)'].to_numpy()\n",
    "\n",
    "\t# function fit\n",
    "\tpopt, pcov = curve_fit(func_to_fit, x, y, bounds=[0, np.Inf])\n",
    "\tpopt # contains fits for a-e\n",
    "\n",
    "\tfig, (ax1) = plt.subplots(1,1, figsize=(14,6))  # 1 row, 2 columns\n",
    "\tdf.plot.scatter(x='Laser Power (mW)', y='PL_NV (#/s)', ax=ax1, legend=True, title=f\"NV-Center {SAMPLE_NUMBER} - All Saturation Curves - Power (mW) vs PhotoLuminesence\")\n",
    "\n",
    "\tplt.plot(x, func_to_fit(x, *popt), 'g--', label='fit: a=%5.3f, b=%5.3f, c=%5.3f, d=%5.3f, e=%5.3f' % tuple(popt))\n",
    "\n",
    "\tplt.legend()"
   ]
  },
  {
   "cell_type": "code",
   "execution_count": null,
   "metadata": {},
   "outputs": [],
   "source": []
  },
  {
   "attachments": {},
   "cell_type": "markdown",
   "metadata": {},
   "source": [
    "## k8 Fitting"
   ]
  },
  {
   "cell_type": "code",
   "execution_count": null,
   "metadata": {},
   "outputs": [],
   "source": [
    "km = 1.6E-6"
   ]
  },
  {
   "attachments": {},
   "cell_type": "markdown",
   "metadata": {},
   "source": []
  },
  {
   "cell_type": "code",
   "execution_count": 253,
   "metadata": {},
   "outputs": [],
   "source": [
    "a = 1\n",
    "\n",
    "def func_to_fit(x, a, b, c, d, e):\n",
    "    return (a*(x**2) + b*x) / (c*(x**2) + d*x + e)\n",
    "\n",
    "def func_to_fit_test(x, a, b, c, d, e):\n",
    "\n",
    "    u = 1.6E-6\n",
    "    v = 50E-6\n",
    "\n",
    "    return ((x**2) + (b*x/a)) / ((u*c/a)*(x**2) + (v*d/a)*x + (e/a))\n",
    "\n",
    "def daria_fit(x, e, a, b, c, d):\n",
    "\n",
    "    # u = 1.6E0\n",
    "    # v = 50E0\n",
    "\n",
    "    return (e) / ((1/(a*x)) + ((c*x)/(1+b*x)) + ((d)/(1+b*x) ) )\n",
    "\n",
    "def func_to_fit_3_latest(x, e, a, b, c):\n",
    "\n",
    "    # km = 1.6E-6\n",
    "    # kn = 50E-6\n",
    "\n",
    "    km = 1.6E2\n",
    "    kn = 50E2\n",
    "\n",
    "    return (e) / ((1/(a*x)) + ((c*x)/(km+b*x)) + ((kn)/(km+b*x) ) )\n",
    "\n",
    "def func_to_fit_3(x, a, b, c, k):\n",
    "    # a = kr\n",
    "    # b = ke\n",
    "    # c = kd\n",
    "    # k = k8\n",
    "\n",
    "    # u = km // literature constant\n",
    "    # v = kn // literature constant\n",
    "\n",
    "    u = 1.6E-6\n",
    "    v = 50E-6\n",
    "\n",
    "    return (b*x*(k*x+u)) / (a*k*x + a*u + b*c*(x**2) + b*k*(x**2) + b*u*x + b*v*x )"
   ]
  },
  {
   "cell_type": "code",
   "execution_count": 254,
   "metadata": {},
   "outputs": [],
   "source": [
    "import numpy as np\n",
    "import matplotlib.pyplot as plt\n",
    "from scipy.optimize import curve_fit"
   ]
  },
  {
   "cell_type": "code",
   "execution_count": 255,
   "metadata": {},
   "outputs": [
    {
     "data": {
      "text/plain": [
       "Laser Power (V)     float64\n",
       "PL (counts/s)       float64\n",
       "PC (pA)             float64\n",
       "Wavelength            int64\n",
       "Location             object\n",
       "Experiment #         object\n",
       "PL_background       float64\n",
       "PL_NV (#/s)         float64\n",
       "Laser Power (mW)    float64\n",
       "dtype: object"
      ]
     },
     "execution_count": 255,
     "metadata": {},
     "output_type": "execute_result"
    }
   ],
   "source": [
    "all_saturation_curves_on_wavelength['535'][0].dtypes"
   ]
  },
  {
   "cell_type": "code",
   "execution_count": 256,
   "metadata": {},
   "outputs": [
    {
     "data": {
      "text/plain": [
       "inf"
      ]
     },
     "execution_count": 256,
     "metadata": {},
     "output_type": "execute_result"
    }
   ],
   "source": [
    "np.Inf"
   ]
  },
  {
   "attachments": {},
   "cell_type": "markdown",
   "metadata": {},
   "source": [
    "daria_fit"
   ]
  },
  {
   "cell_type": "code",
   "execution_count": 300,
   "metadata": {},
   "outputs": [],
   "source": [
    "km = 1.6E-2\n",
    "kn = 50E-2"
   ]
  },
  {
   "cell_type": "code",
   "execution_count": 301,
   "metadata": {},
   "outputs": [
    {
     "name": "stdout",
     "output_type": "stream",
     "text": [
      "k8 37173.33582043257\n",
      "k8 10.041204986050063\n",
      "k8 6200.487508712927\n",
      "k8 10.44165241381086\n",
      "k8 11438.586263556528\n",
      "k8 2487.681836287502\n"
     ]
    },
    {
     "data": {
      "image/png": "[encoded data removed]",
      "text/plain": [
       "<Figure size 1008x432 with 1 Axes>"
      ]
     },
     "metadata": {
      "needs_background": "light"
     },
     "output_type": "display_data"
    },
    {
     "data": {
      "image/png": "[encoded data removed]",
      "text/plain": [
       "<Figure size 1008x432 with 1 Axes>"
      ]
     },
     "metadata": {
      "needs_background": "light"
     },
     "output_type": "display_data"
    },
    {
     "data": {
      "image/png": "[encoded data removed]",
      "text/plain": [
       "<Figure size 1008x432 with 1 Axes>"
      ]
     },
     "metadata": {
      "needs_background": "light"
     },
     "output_type": "display_data"
    },
    {
     "data": {
      "image/png": "[encoded data removed]",
      "text/plain": [
       "<Figure size 1008x432 with 1 Axes>"
      ]
     },
     "metadata": {
      "needs_background": "light"
     },
     "output_type": "display_data"
    },
    {
     "data": {
      "image/png": "[encoded data removed]",
      "text/plain": [
       "<Figure size 1008x432 with 1 Axes>"
      ]
     },
     "metadata": {
      "needs_background": "light"
     },
     "output_type": "display_data"
    },
    {
     "data": {
      "image/png": "[encoded data removed]",
      "text/plain": [
       "<Figure size 1008x432 with 1 Axes>"
      ]
     },
     "metadata": {
      "needs_background": "light"
     },
     "output_type": "display_data"
    }
   ],
   "source": [
    "def daria_fit(x, e, a, b, c):\n",
    "\td = kn/km\n",
    "\t\n",
    "\treturn (e) / ((1/(a*x)) + ((c*x)/(1+b*x)) + ((d)/(1+b*x) ) )\n",
    "\n",
    "def daria_fit_2(x, e, a, b, c):\n",
    "\td = kn/km\n",
    "\t\n",
    "\treturn (e) / ((1/(a*x)) + ((c*x/km)/(1+b*km*x)) + ((d)/(1+b*km*x) ) )\n",
    "\n",
    "for df in all_saturation_curves_on_wavelength['545']:\n",
    "\t\n",
    "\t# data\n",
    "\tx = df['Laser Power (mW)'].to_numpy()\n",
    "\ty = df['PL_NV (#/s)'].to_numpy()\n",
    "\n",
    "\t# function fit\n",
    "\tpopt, pcov = curve_fit(daria_fit_2, x, y,\n",
    "\t\tp0=[10, 10, 10, 10],\n",
    "\t\tbounds=((0, 0, 0, 0), (np.inf, np.inf, np.inf, np.inf)),\n",
    "\t\tmaxfev=100000\n",
    "\t)\n",
    "\tpopt # contains fits for a-e\n",
    "\n",
    "\tprint (f\"k8 {popt[2]}\")\n",
    "\n",
    "\tfig, (ax1) = plt.subplots(1,1, figsize=(14,6))  # 1 row, 2 columns\n",
    "\tdf.plot.scatter(x='Laser Power (mW)', y='PL_NV (#/s)', ax=ax1, legend=True, title=f\"NV-Center {SAMPLE_NUMBER} - All Saturation Curves - Power (mW) vs PhotoLuminesence\")\n",
    "\n",
    "\tlabel = 'fit: scale=%5.3f, a=%5.3f, k8=%5.3f, c=%5.3f' % tuple(popt)\n",
    "\n",
    "\tplt.plot(x, daria_fit_2(x, *popt), 'g--', label=label)\n",
    "\n",
    "\tplt.legend()"
   ]
  },
  {
   "attachments": {},
   "cell_type": "markdown",
   "metadata": {},
   "source": [
    "## Plotting kbs"
   ]
  },
  {
   "cell_type": "code",
   "execution_count": 261,
   "metadata": {},
   "outputs": [],
   "source": [
    "def daria_fit(x, e, a, b, c, d):\n",
    "    return (e) / ((1/(a*x)) + ((c*x)/(1+b*x)) + ((d)/(1+b*x) ) )"
   ]
  },
  {
   "cell_type": "code",
   "execution_count": 279,
   "metadata": {},
   "outputs": [],
   "source": [
    "df_k8 = pd.DataFrame(columns=['wavelength', 'k8'])\n",
    "\n",
    "for wavelength in all_saturation_curves_on_wavelength:\n",
    "\tfor df in all_saturation_curves_on_wavelength[wavelength]:\n",
    "\t\n",
    "\t\t# data\n",
    "\t\tx = df['Laser Power (mW)'].to_numpy()\n",
    "\t\ty = df['PL_NV (#/s)'].to_numpy()\n",
    "\n",
    "\t\t# function fit\n",
    "\t\tpopt, pcov = curve_fit(daria_fit, x, y,\n",
    "\t\t\tp0=[10, 10, 10, 10, 10],\n",
    "\t\t\tbounds=((0, 0, 0, 0, 0), (np.inf, np.inf, np.inf, np.inf, np.inf)),\n",
    "\t\t)\n",
    "\t\tpopt # contains fits for a-e\n",
    "\n",
    "\t\tdf_k8 = df_k8.append({'wavelength': wavelength, 'k8': popt[2]}, ignore_index=True)\n",
    "\n",
    "df_k8.wavelength = df_k8.wavelength.astype(float)"
   ]
  },
  {
   "cell_type": "code",
   "execution_count": 280,
   "metadata": {},
   "outputs": [
    {
     "data": {
      "text/html": [
       "<div>\n",
       "<style scoped>\n",
       "    .dataframe tbody tr th:only-of-type {\n",
       "        vertical-align: middle;\n",
       "    }\n",
       "\n",
       "    .dataframe tbody tr th {\n",
       "        vertical-align: top;\n",
       "    }\n",
       "\n",
       "    .dataframe thead th {\n",
       "        text-align: right;\n",
       "    }\n",
       "</style>\n",
       "<table border=\"1\" class=\"dataframe\">\n",
       "  <thead>\n",
       "    <tr style=\"text-align: right;\">\n",
       "      <th></th>\n",
       "      <th>wavelength</th>\n",
       "      <th>k8</th>\n",
       "    </tr>\n",
       "  </thead>\n",
       "  <tbody>\n",
       "    <tr>\n",
       "      <th>0</th>\n",
       "      <td>540.0</td>\n",
       "      <td>3.943229e-03</td>\n",
       "    </tr>\n",
       "    <tr>\n",
       "      <th>1</th>\n",
       "      <td>540.0</td>\n",
       "      <td>9.639701e-02</td>\n",
       "    </tr>\n",
       "    <tr>\n",
       "      <th>2</th>\n",
       "      <td>540.0</td>\n",
       "      <td>1.039635e-14</td>\n",
       "    </tr>\n",
       "    <tr>\n",
       "      <th>3</th>\n",
       "      <td>540.0</td>\n",
       "      <td>2.849949e-02</td>\n",
       "    </tr>\n",
       "    <tr>\n",
       "      <th>4</th>\n",
       "      <td>550.0</td>\n",
       "      <td>5.451855e-01</td>\n",
       "    </tr>\n",
       "  </tbody>\n",
       "</table>\n",
       "</div>"
      ],
      "text/plain": [
       "   wavelength            k8\n",
       "0       540.0  3.943229e-03\n",
       "1       540.0  9.639701e-02\n",
       "2       540.0  1.039635e-14\n",
       "3       540.0  2.849949e-02\n",
       "4       550.0  5.451855e-01"
      ]
     },
     "execution_count": 280,
     "metadata": {},
     "output_type": "execute_result"
    }
   ],
   "source": [
    "df_k8.head()"
   ]
  },
  {
   "cell_type": "code",
   "execution_count": 271,
   "metadata": {},
   "outputs": [],
   "source": [
    "import math"
   ]
  },
  {
   "cell_type": "code",
   "execution_count": 281,
   "metadata": {},
   "outputs": [],
   "source": [
    "df_k8.wavelength = df_k8.wavelength.astype(float)"
   ]
  },
  {
   "cell_type": "code",
   "execution_count": 282,
   "metadata": {},
   "outputs": [],
   "source": [
    "km = 1.6E-6\n",
    "kn = 50E-6\n",
    "\n",
    "df_k8.k8 = df_k8.k8 * km\n",
    "df_k8.k8 = df_k8.k8 * 1000"
   ]
  },
  {
   "cell_type": "code",
   "execution_count": 283,
   "metadata": {},
   "outputs": [
    {
     "data": {
      "text/plain": [
       "<matplotlib.axes._subplots.AxesSubplot at 0x7f7fdf73ac50>"
      ]
     },
     "execution_count": 283,
     "metadata": {},
     "output_type": "execute_result"
    },
    {
     "data": {
      "image/png": "[encoded data removed]",
      "text/plain": [
       "<Figure size 1008x432 with 1 Axes>"
      ]
     },
     "metadata": {
      "needs_background": "light"
     },
     "output_type": "display_data"
    }
   ],
   "source": [
    "fig, (ax1) = plt.subplots(1,1, figsize=(14,6))  # 1 row, 2 columns\n",
    "df_k8.plot.scatter(x='wavelength', y='k8', ax=ax1, legend=True, title=f\"NV-Center {SAMPLE_NUMBER} - k8 vs wavelength\")"
   ]
  },
  {
   "cell_type": "code",
   "execution_count": 277,
   "metadata": {},
   "outputs": [
    {
     "data": {
      "text/plain": [
       "0     6.309167e-09\n",
       "1     1.542352e-07\n",
       "2     1.663416e-20\n",
       "3     4.559918e-08\n",
       "4     8.722968e-07\n",
       "5     4.892369e-07\n",
       "6     1.327390e-06\n",
       "7     3.963808e-08\n",
       "8     9.709528e-05\n",
       "9     3.728499e-05\n",
       "10    7.766152e-09\n",
       "11    5.609202e-28\n",
       "12    4.222412e-05\n",
       "13    1.686940e-05\n",
       "14    9.691371e-05\n",
       "15    9.165868e-06\n",
       "16    1.678944e-05\n",
       "17    1.210304e-05\n",
       "18    1.142778e-05\n",
       "19    9.382006e-06\n",
       "20    2.508611e-07\n",
       "21    4.995876e-08\n",
       "22    9.234096e-09\n",
       "23    9.985675e-08\n",
       "24    4.910316e-08\n",
       "25    3.459708e-29\n",
       "26    4.082853e-05\n",
       "27    7.744849e-08\n",
       "28    4.653372e-05\n",
       "29    3.654509e-07\n",
       "30    1.785155e-07\n",
       "31    3.890567e-05\n",
       "32    3.985372e-20\n",
       "33    9.746430e-08\n",
       "34    6.047969e-24\n",
       "35    6.313914e-05\n",
       "36    4.231656e-05\n",
       "37    9.924600e-20\n",
       "38    4.235410e-05\n",
       "Name: k8, dtype: float64"
      ]
     },
     "execution_count": 277,
     "metadata": {},
     "output_type": "execute_result"
    }
   ],
   "source": [
    "df_k8.k8"
   ]
  },
  {
   "attachments": {},
   "cell_type": "markdown",
   "metadata": {},
   "source": []
  },
  {
   "cell_type": "code",
   "execution_count": 268,
   "metadata": {},
   "outputs": [
    {
     "data": {
      "text/plain": [
       "<matplotlib.axes._subplots.AxesSubplot at 0x7f7fe12a52b0>"
      ]
     },
     "execution_count": 268,
     "metadata": {},
     "output_type": "execute_result"
    },
    {
     "data": {
      "image/png": "[encoded data removed]",
      "text/plain": [
       "<Figure size 1008x432 with 1 Axes>"
      ]
     },
     "metadata": {
      "needs_background": "light"
     },
     "output_type": "display_data"
    }
   ],
   "source": [
    "df_k8.k8 = df_k8.k8.apply(math.log)\n",
    "fig, (ax1) = plt.subplots(1,1, figsize=(14,6))  # 1 row, 2 columns\n",
    "df_k8.plot.scatter(x='wavelength', y='k8', ax=ax1, legend=True, title=f\"NV-Center {SAMPLE_NUMBER} - k8 vs wavelength\")"
   ]
  },
  {
   "attachments": {},
   "cell_type": "markdown",
   "metadata": {},
   "source": [
    "### With modified function"
   ]
  },
  {
   "cell_type": "code",
   "execution_count": null,
   "metadata": {},
   "outputs": [],
   "source": [
    "def func_to_fit_3_latest(x, e, a, b, c):\n",
    "\n",
    "\t# original\n",
    "    # km = 1.6E-6 seconds\n",
    "    # kn = 50E-6 seconds\n",
    "\n",
    "    km = 1.6E1\n",
    "    kn = 50E1\n",
    "\n",
    "    return (e) / ((1/(a*x)) + ((c*x)/(km+b*x)) + ((kn)/(km+b*x) ) )\n",
    "\n",
    "df_k8 = pd.DataFrame(columns=['wavelength', 'k8'])\n",
    "\n",
    "for wavelength in all_saturation_curves_on_wavelength:\n",
    "\tfor df in all_saturation_curves_on_wavelength[wavelength]:\n",
    "\t\n",
    "\t\t# data\n",
    "\t\tx = df['Laser Power (mW)'].to_numpy()\n",
    "\t\ty = df['PL_NV (#/s)'].to_numpy()\n",
    "\n",
    "\t\t# function fit\n",
    "\t\tpopt, pcov = curve_fit(func_to_fit_3_latest, x, y,\n",
    "\t\t\tp0=[10, 10, 10, 10],\n",
    "\t\t\tbounds=((0, 0, 0, 0), (np.inf, np.inf, np.inf, np.inf)),\n",
    "\t\t\tmaxfev=100000\n",
    "\t\t)\n",
    "\t\tpopt # contains fits for a-e\n",
    "\n",
    "\t\tdf_k8 = df_k8.append({'wavelength': wavelength, 'k8': popt[2]}, ignore_index=True)"
   ]
  },
  {
   "cell_type": "code",
   "execution_count": null,
   "metadata": {},
   "outputs": [],
   "source": [
    "df_k8.wavelength = df_k8.wavelength.astype(float)\n",
    "\n",
    "fig, (ax1) = plt.subplots(1,1, figsize=(14,6))  # 1 row, 2 columns\n",
    "df_k8.loc[df_k8.k8<100,:].plot.scatter(x='wavelength', y='k8', ax=ax1, legend=True, title=f\"NV-Center {SAMPLE_NUMBER} - k8 vs wavelength\")"
   ]
  },
  {
   "attachments": {},
   "cell_type": "markdown",
   "metadata": {},
   "source": []
  },
  {
   "cell_type": "code",
   "execution_count": null,
   "metadata": {},
   "outputs": [],
   "source": []
  },
  {
   "cell_type": "code",
   "execution_count": null,
   "metadata": {},
   "outputs": [],
   "source": [
    "for df in all_saturation_curves_on_wavelength['535']:\n",
    "\t\n",
    "\t# data\n",
    "\tx = df['Laser Power (mW)'].to_numpy()\n",
    "\ty = df['PL_NV (#/s)'].to_numpy()\n",
    "\n",
    "\t# function fit\n",
    "\tpopt, pcov = curve_fit(daria_fit, x, y,\n",
    "\t\tp0=[10, 10, 10, 10, 10],\n",
    "\t\tbounds=((0, 0, 0, 0, 0), (np.inf, np.inf, np.inf, np.inf, np.inf)),\n",
    "\t\tmaxfev=100000\n",
    "\t)\n",
    "\tpopt # contains fits for a-e\n",
    "\n",
    "\tfig, (ax1) = plt.subplots(1,1, figsize=(14,6))  # 1 row, 2 columns\n",
    "\tdf.plot.scatter(x='Laser Power (mW)', y='PL_NV (#/s)', ax=ax1, legend=True, title=f\"NV-Center {SAMPLE_NUMBER} - All Saturation Curves - Power (mW) vs PhotoLuminesence\")\n",
    "\n",
    "\tlabel = 'fit: scale=%5.3f, a=%5.3f, k8=%5.3f, c=%5.3f, d=%5.3f' % tuple(popt)\n",
    "\n",
    "\tplt.plot(x, daria_fit(x, *popt), 'g--', label=label)\n",
    "\n",
    "\tplt.legend()"
   ]
  },
  {
   "attachments": {},
   "cell_type": "markdown",
   "metadata": {},
   "source": [
    "Modified_fit"
   ]
  },
  {
   "cell_type": "code",
   "execution_count": null,
   "metadata": {},
   "outputs": [],
   "source": [
    "def func_to_fit_3_latest(x, e, a, b, c):\n",
    "\n",
    "    # km = 1.6E-6\n",
    "    # kn = 50E-6\n",
    "\n",
    "    km = 1.6E2\n",
    "    kn = 50E2\n",
    "\n",
    "    return (e) / ((1/(a*x)) + ((c*x)/(kn+b*x)) + ((kn)/(km+b*x) ) )\n",
    "\n",
    "for df in all_saturation_curves_on_wavelength['545']:\n",
    "\t\n",
    "\t# data\n",
    "\tx = df['Laser Power (mW)'].to_numpy()\n",
    "\ty = df['PL_NV (#/s)'].to_numpy()\n",
    "\n",
    "\t# function fit\n",
    "\tpopt, pcov = curve_fit(func_to_fit_3_latest, x, y,\n",
    "\t\tp0=[10, 10, 10, 10],\n",
    "\t\tbounds=((0, -np.inf, 0, 0), (np.inf, np.inf, np.inf, np.inf)),\n",
    "\t\tmaxfev=100000\n",
    "\t)\n",
    "\tpopt # contains fits for a-e\n",
    "\n",
    "\tfig, (ax1) = plt.subplots(1,1, figsize=(14,6))  # 1 row, 2 columns\n",
    "\tdf.plot.scatter(x='Laser Power (mW)', y='PL_NV (#/s)', ax=ax1, legend=True, title=f\"NV-Center {SAMPLE_NUMBER} - All Saturation Curves - Power (mW) vs PhotoLuminesence\")\n",
    "\n",
    "\tlabel = 'fit: scale=%5.3f, a=%5.3f, k8=%5.3f, c=%5.3f' % tuple(popt)\n",
    "\n",
    "\tplt.plot(x, func_to_fit_3_latest(x, *popt), 'g--', label=label)\n",
    "\n",
    "\tplt.legend()"
   ]
  },
  {
   "cell_type": "code",
   "execution_count": null,
   "metadata": {},
   "outputs": [],
   "source": []
  },
  {
   "cell_type": "code",
   "execution_count": null,
   "metadata": {},
   "outputs": [],
   "source": [
    "for df in all_saturation_curves_on_wavelength['540']:\n",
    "\t\n",
    "\t# data\n",
    "\tx = df['Laser Power (mW)'].to_numpy()\n",
    "\ty = df['PL_NV (#/s)'].to_numpy()\n",
    "\n",
    "\t# function fit\n",
    "\tpopt, pcov = curve_fit(func_to_fit_test, x, y, bounds=[0, np.Inf])\n",
    "\tpopt # contains fits for a-e\n",
    "\n",
    "\tfig, (ax1) = plt.subplots(1,1, figsize=(14,6))  # 1 row, 2 columns\n",
    "\tdf.plot.scatter(x='Laser Power (mW)', y='PL_NV (#/s)', ax=ax1, legend=True, title=f\"NV-Center {SAMPLE_NUMBER} - All Saturation Curves - Power (mW) vs PhotoLuminesence\")\n",
    "\n",
    "\tplt.plot(x, func_to_fit_test(x, *popt), 'g--', label='fit: a=%5.3f, b=%5.3f, c=%5.3f, k=%5.3f, e=%5.3f' % tuple(popt))\n",
    "\n",
    "\tplt.legend()"
   ]
  },
  {
   "cell_type": "code",
   "execution_count": null,
   "metadata": {},
   "outputs": [],
   "source": []
  },
  {
   "cell_type": "code",
   "execution_count": null,
   "metadata": {},
   "outputs": [],
   "source": []
  },
  {
   "cell_type": "code",
   "execution_count": null,
   "metadata": {},
   "outputs": [],
   "source": []
  },
  {
   "cell_type": "code",
   "execution_count": null,
   "metadata": {},
   "outputs": [],
   "source": []
  },
  {
   "cell_type": "code",
   "execution_count": null,
   "metadata": {},
   "outputs": [],
   "source": []
  },
  {
   "attachments": {},
   "cell_type": "markdown",
   "metadata": {},
   "source": [
    "# Plot in 3D"
   ]
  },
  {
   "cell_type": "code",
   "execution_count": null,
   "metadata": {},
   "outputs": [],
   "source": [
    "import matplotlib.pyplot as plt\n",
    "from mpl_toolkits.mplot3d import Axes3D # <--- This is important for 3d plotting "
   ]
  },
  {
   "cell_type": "code",
   "execution_count": null,
   "metadata": {},
   "outputs": [],
   "source": [
    "%matplotlib notebook"
   ]
  },
  {
   "cell_type": "code",
   "execution_count": null,
   "metadata": {},
   "outputs": [],
   "source": [
    "[1,2,3,4,5,6]"
   ]
  },
  {
   "cell_type": "code",
   "execution_count": null,
   "metadata": {},
   "outputs": [],
   "source": []
  },
  {
   "cell_type": "code",
   "execution_count": null,
   "metadata": {
    "scrolled": false
   },
   "outputs": [],
   "source": [
    "fig = plt.figure()\n",
    "ax = fig.add_subplot(projection='3d')\n",
    "\n",
    "n = 100\n",
    "\n",
    "for df in all_saturation_curves.filter:\n",
    "    xs = df['Laser Power (mW)']\n",
    "    ys = df['Wavelength'][0]\n",
    "    zs = df['PL_NV (#/s)']\n",
    "    \n",
    "    ax.scatter(xs, ys, zs, marker='.')\n",
    "    \n",
    "#     df.plot.scatter(x='Laser Power (mW)', y='PL_NV (#/s)', ax=ax1, legend=True, title=f\"NV-Center {SAMPLE_NUMBER} - Saturation Curve - Power (mW) vs PhotoLuminesence\")\n",
    "\n",
    "# For each set of style anall_saturation_curvesd range settings, plot n random points in the box\n",
    "# defined by x in [23, 32], y in [0, 100], z in [zlow, zhigh].\n",
    "# for m, zlow, zhigh in [('o', -50, -25), ('^', -30, -5)]:\n",
    "#     xs = randrange(n, 23, 32)\n",
    "#     ys = randrange(n, 0, 100)\n",
    "#     zs = randrange(n, zlow, zhigh)\n",
    "#     ax.scatter(xs, ys, zs, marker=m)\n",
    "\n",
    "ax.set_xlabel('Laser Power (mW)')\n",
    "ax.set_ylabel('Wavelength')\n",
    "ax.set_zlabel('PL (#/s)')\n",
    "\n",
    "plt.show()"
   ]
  },
  {
   "cell_type": "code",
   "execution_count": null,
   "metadata": {},
   "outputs": [],
   "source": [
    "# show case a particular saturation curve\n",
    "all_saturation_curves[0]"
   ]
  },
  {
   "attachments": {},
   "cell_type": "markdown",
   "metadata": {},
   "source": [
    "## Credits\n",
    "\n",
    "@article{scikit-learn,\n",
    " title={Scikit-learn: Machine Learning in {P}ython},\n",
    " author={Pedregosa, F. and Varoquaux, G. and Gramfort, A. and Michel, V.\n",
    "         and Thirion, B. and Grisel, O. and Blondel, M. and Prettenhofer, P.\n",
    "         and Weiss, R. and Dubourg, V. and Vanderplas, J. and Passos, A. and\n",
    "         Cournapeau, D. and Brucher, M. and Perrot, M. and Duchesnay, E.},\n",
    " journal={Journal of Machine Learning Research},\n",
    " volume={12},\n",
    " pages={2825--2830},\n",
    " year={2011}\n",
    "}"
   ]
  },
  {
   "attachments": {},
   "cell_type": "markdown",
   "metadata": {},
   "source": []
  }
 ],
 "metadata": {
  "kernelspec": {
   "display_name": "drlnd",
   "language": "python",
   "name": "drlnd"
  },
  "language_info": {
   "codemirror_mode": {
    "name": "ipython",
    "version": 3
   },
   "file_extension": ".py",
   "mimetype": "text/x-python",
   "name": "python",
   "nbconvert_exporter": "python",
   "pygments_lexer": "ipython3",
   "version": "3.6.9"
  },
  "toc": {
   "base_numbering": 1,
   "nav_menu": {},
   "number_sections": true,
   "sideBar": true,
   "skip_h1_title": false,
   "title_cell": "Contents",
   "title_sidebar": "Contents",
   "toc_cell": true,
   "toc_position": {},
   "toc_section_display": true,
   "toc_window_display": false
  },
  "vscode": {
   "interpreter": {
    "hash": "dae120841de439fd72006435c56da5e91fd4f53461ba3316451d0521924be474"
   }
  }
 },
 "nbformat": 4,
 "nbformat_minor": 2
}
